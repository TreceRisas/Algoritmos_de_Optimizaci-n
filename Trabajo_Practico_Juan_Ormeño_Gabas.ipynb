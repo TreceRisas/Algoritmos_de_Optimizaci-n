{
 "cells": [
  {
   "cell_type": "markdown",
   "metadata": {
    "id": "hVbXYX-RfPWh"
   },
   "source": [
    "# Algoritmos de optimización - Trabajo Práctico<br>\n",
    "**Nombre y Apellidos:** Juan Ormeño Gabás  <br>\n",
    "**Url:** https://github.com/TreceRisas/Algoritmos_de_Optimizaci-n.git<br>\n",
    "\n",
    "**Problema:** Organizar los horarios de partidos de La Liga.\n",
    ">1. Sesiones de doblaje <br>\n",
    ">2. **Organizar los horarios de partidos de La Liga**<br>\n",
    ">3. Configuración de Tribunales\n",
    "\n",
    "**Descripción del problema:** La Liga de futbol profesional pretende organizar los horarios de los partios de liga de cada jornada. Conociendo algunos datos, se pretende diseñar un algoritmo capaz de asignar los partidos a los horarios que maximicen la audiencia.\n",
    "\n",
    "Los horarios disponibles se conocen con anterioridad, los cuales, son los siguientes:              "
   ]
  },
  {
   "cell_type": "markdown",
   "metadata": {},
   "source": [
    "<table>\r\n",
    "    \r\n",
    "<thead>\r\n",
    "<tr>\r\n",
    "\t<th></th>\r\n",
    "</tr>\r\n",
    "</thead>\r\n",
    "<tbody>\r\n",
    "    \r\n",
    "  <tr> \r\n",
    "\t<th> Día</th>\r\n",
    "  <th>Hora</th>\r\n",
    "</tr>\r\n",
    "  \r\n",
    "<tr> \r\n",
    "\t<th> Viernes</th>\r\n",
    "  <td>20</td>\r\n",
    "</tr>\r\n",
    "\r\n",
    "<tr> \r\n",
    "\t<th> Sábado</th>\r\n",
    "  <td>12, 16, 18, 20</td>\r\n",
    "</tr>\r\n",
    "  <tr> \r\n",
    "\t<th> Domingo</th>\r\n",
    "  <td>12, 16, 18, 20</td>\r\n",
    "</tr>\r\n",
    "  \r\n",
    "  <tr> \r\n",
    "\t<th> Lunes</th>\r\n",
    "  <td>20</td>\r\n",
    "</tr>\r\n",
    "  \r\n",
    "</tbody>\r\n",
    "</table>"
   ]
  },
  {
   "cell_type": "markdown",
   "metadata": {},
   "source": [
    ">1. Se clasifican los equipos en tres categorías en función de los seguidores que estén relacionados directamente ocn la audiencia.\n",
    ">2. Los 20 equipos quedan clasificados en de tal forma que **Categoría A = 4 equipos, Categoría B = 10 equipos, Categoría C = 6 equipos**\n",
    ">3. Conociendo estadísticamente la audiencia que genera cada partido según los equipos que se enfrentan, el mejor horario en **TODOS** los casos el **sábado a las 20 horas.**"
   ]
  },
  {
   "cell_type": "markdown",
   "metadata": {},
   "source": [
    "<table>\r\n",
    "    \r\n",
    "<thead>\r\n",
    "<tr>\r\n",
    "\t<th></th>\r\n",
    "</tr>\r\n",
    "</thead>\r\n",
    "<tbody>\r\n",
    "    \r\n",
    "  <tr> \r\n",
    "   <th> - </th>\r\n",
    "\t<th> Categoría A</th>\r\n",
    "  <th>Categoría  B</th>\r\n",
    "  <th>Categoría  C</th>\r\n",
    "</tr>\r\n",
    "  \r\n",
    "<tr> \r\n",
    "\t<th>Categoría A</th>\r\n",
    "  <td>2 M</td>\r\n",
    "  <td>1.3 M</td>\r\n",
    "  <td>1 M</td>\r\n",
    "</tr>\r\n",
    "\r\n",
    "<tr> \r\n",
    "\t<th>Categoría B</th>\r\n",
    "  <td> ... </td>\r\n",
    "  <td>0.9 M</td>\r\n",
    "  <td>0.75 M</td>\r\n",
    "</tr>\r\n",
    "  \r\n",
    "  <tr> \r\n",
    "\t<th>Categoría C</th>\r\n",
    "  <td>...</td>\r\n",
    "  <td>...</td>\r\n",
    "  <td>0.47 M</td>\r\n",
    "</tr>\r\n",
    "  \r\n",
    "</tbody>\r\n",
    "</table>"
   ]
  },
  {
   "cell_type": "markdown",
   "metadata": {},
   "source": [
    "Cuando el partido no se juega el sábado a las 20 horas, se sabe que los **coeficientes se reducen** como muestra la siguiente tabla:"
   ]
  },
  {
   "cell_type": "markdown",
   "metadata": {},
   "source": [
    "<table>\r\n",
    "    \r\n",
    "<thead>\r\n",
    "<tr>\r\n",
    "\t<th></th>\r\n",
    "</tr>\r\n",
    "</thead>\r\n",
    "<tbody>\r\n",
    "    \r\n",
    "  <tr> \r\n",
    "   <th> - </th>\r\n",
    "\t<th> Viernes</th>\r\n",
    "  <th>Sábado</th>\r\n",
    "  <th>Domingo</th>\r\n",
    "   <th>Lunes</th> \r\n",
    "</tr>\r\n",
    "  \r\n",
    "<tr> \r\n",
    "\t<th> 12 h</th>\r\n",
    "  <td>...</td>\r\n",
    "  <td>0.55</td>\r\n",
    "  <td>0.45</td>\r\n",
    "  <td>...</td>\r\n",
    "</tr>\r\n",
    "  \r\n",
    "  <tr> \r\n",
    "\t<th> 16 h</th>\r\n",
    "  <td>...</td>\r\n",
    "  <td>0.7</td>\r\n",
    "  <td>0.75</td>\r\n",
    "  <td>...</td>\r\n",
    "</tr>\r\n",
    "  \r\n",
    "  <tr> \r\n",
    "\t<th> 18 h</th>\r\n",
    "  <td>...</td>\r\n",
    "  <td>0.8</td>\r\n",
    "  <td>0.85</td>\r\n",
    "  <td>...</td>\r\n",
    "</tr>\r\n",
    "  \r\n",
    "  <tr> \r\n",
    "\t<th> 20 h</th>\r\n",
    "  <td>0.4</td>\r\n",
    "  <td>1</td>\r\n",
    "  <td>1</td>\r\n",
    "  <td>0.4</td>\r\n",
    "</tr>\r\n",
    "\r\n",
    "\r\n",
    "  \r\n",
    "</tbody>\r\n",
    "</table>"
   ]
  },
  {
   "cell_type": "markdown",
   "metadata": {},
   "source": [
    "Se debe asignar obligatoriamente siempre almenos, un partido el viernes y un partido el lunes.\n",
    "\n",
    "Se puede dar la coincidencia de horarios, pero en este caso, la audiencia se verá afectada ya que no es acumulativa, lo que obligará a que sea repartida según los siguientes criterios:"
   ]
  },
  {
   "cell_type": "markdown",
   "metadata": {},
   "source": [
    "- se tomará la mejor audiencia y se repartirá según la siguiente ponderación:\n",
    "\n",
    ">A = 4 puntos<br>\n",
    ">B = 2 puntos<br>\n",
    ">C = 1 punto<br>"
   ]
  },
  {
   "cell_type": "markdown",
   "metadata": {},
   "source": [
    "- En caso de que haya una coincidencia horaria en la mejor franja (sábado a las 20h) para dos partidos por ejemplo :  AB y BC\n",
    "\n",
    "> Total puntos: 4(A)+2(B) + 2(B)+1(C) =9 <br>\n",
    "> - La audiencia máxima para ese horario será la de AB = 1.3 Millones <br>\n",
    "> - La audiencia (1.3 Millones) se reparte en :\n",
    ">> Para AB:  (6/9) ·1.3 M = 0 . 87 Millones<br>\n",
    ">> Para BC:  (3/9) · 1.3 M = 0 . 43 Millones<br>"
   ]
  },
  {
   "cell_type": "markdown",
   "metadata": {},
   "source": [
    "# Explicación"
   ]
  },
  {
   "cell_type": "markdown",
   "metadata": {},
   "source": [
    "Se dispone de 20 equipos, lo que indica que se han de jugar 10 partidos. Las **restricciones** que son:\n",
    "\n",
    "- Obtener la **máxima audiencia** para la jornada\n",
    "\n",
    "- Se tiene que jugar un partido el **viernes** y un partido el **lunes**"
   ]
  },
  {
   "cell_type": "markdown",
   "metadata": {},
   "source": [
    "Además, nos da la **posibilidad de jugar en un mismo horraio más de un partido**. Lo que para maximizar la audiencia total, nos da 4 puntos clave:\n",
    "\n",
    "> 1. **Posibilidad de Jugar en el Mismo Horario**: Aunque existe la opción de programar varios partidos en el mismo horario, esta no contribuye significativamente a aumentar la audiencia total. Si los horarios disponibles coinciden con el número de partidos (10), la audiencia generada por un partido en una jornada es mayor que la audiencia combinada de dos partidos que coinciden en horario. Por lo tanto, esta opción no es relevante para maximizar la audiencia total.\n",
    "> 2. **Objetivo Principal**: El objetivo principal es organizar la jornada de manera que se alcance la máxima audiencia. Esto implica considerar la audiencia estadística que genera cada partido según los equipos que se enfrentan y el horario en el que se juega.\n",
    "> 3. **Horario Óptimo**: El horario óptimo para obtener la máxima audiencia es el sábado a las 20:00 horas. Sin embargo, si los partidos no se realizan en este horario, la audiencia se reduce según coeficientes específicos.\n",
    "> 4. **Mejora Futura**: Aunque actualmente no se permite que dos partidos coincidan en horario, podría considerarse como una mejora futura si el cliente lo solicita.\r\n",
    "Como la a finalidad es programar los partidos en el horario más favorable para maximizar la audiencia totalda.*Tendremos queto N es el número de partidos. \r\n",
    "\r\n",
    "Se conoce estadísticamente la audiencia que genera cada partido según los equipos que se enfre, así como la repercusión del horario en el que se juegan. Por lo que partiendo de un coeficiente unitario para el mejor horario (20 horas del sábado), este, se reduce en los demás. **O(n²)**."
   ]
  },
  {
   "cell_type": "markdown",
   "metadata": {},
   "source": [
    "Por todo ello **tenemos que tratar de asignar el máximo coeficiente de reducción disponible, al partido con mayor audiencia.** lo que solo podremos conseguir con un **algoritmo de ordenación**, el cual, nos permitirá:\n",
    "\n",
    "- Ordenar los partidos de mayor a menor audiencia\n",
    "- Ordenar los coeficientes de mayor a menor\n",
    "\n",
    "Por lo tanto, en función de la complejidad de el algoritmo de ordenación, obtendremos la complejidad de nuestro problema.  Como hemos visto en clase, en el peor caso obtendremos una complejidad de **O(n²)**."
   ]
  },
  {
   "cell_type": "markdown",
   "metadata": {},
   "source": [
    "Lo que nos da **N! posibles soluciones**, debido a que las posibilidades descienden con cada partido (1º = 10, 2º = 9, 3º = 8...)"
   ]
  },
  {
   "cell_type": "markdown",
   "metadata": {},
   "source": [
    "## **Requisitos:**\n",
    " Desarrollar, modelar y analizar algoritmos según diferentes técnicas para resolver el problema planteado en la asignatura."
   ]
  },
  {
   "cell_type": "markdown",
   "metadata": {
    "id": "Sbo9IqQtpaHZ"
   },
   "source": [
    "## Modelo\n",
    "- ¿Como implemento las restricciones?"
   ]
  },
  {
   "cell_type": "markdown",
   "metadata": {
    "id": "67p_vszBposu"
   },
   "source": [
    "- ¿Cómo represento el espacio de soluciones?"
   ]
  },
  {
   "cell_type": "markdown",
   "metadata": {
    "id": "AiskKkzZfy4e"
   },
   "source": [
    "Debe de priorizar una **\"simple\" y limpia** estructuración de los datos, ya que de esta forma,, cualquier típo de cliente comprenderá los resultados. Por ello, una buena opción será emplear Pandas."
   ]
  },
  {
   "cell_type": "markdown",
   "metadata": {},
   "source": [
    "### Importamos las librerías necesarias para l correcto desarrollo de la actividad"
   ]
  },
  {
   "cell_type": "code",
   "execution_count": 1,
   "metadata": {},
   "outputs": [],
   "source": [
    "import pandas as pd\n",
    "import numpy as np"
   ]
  },
  {
   "cell_type": "markdown",
   "metadata": {},
   "source": [
    "### Introducimos las audiencias y los coeficientes de reducción"
   ]
  },
  {
   "cell_type": "markdown",
   "metadata": {},
   "source": [
    "Conociendo los equipos, y el horario más favorable, podemos pasar a generar un diccionario que nos permita obtener la audiencia de cada partido, en función de las diferentes franjas horarias en las que se disputen, así como la influencia que tendrá el quuipo que juegue (Esto último se incluirá en el siguiente apartado)."
   ]
  },
  {
   "cell_type": "code",
   "execution_count": 2,
   "metadata": {},
   "outputs": [],
   "source": [
    "# Introducimos la mejor audiencia\n",
    "mejor_audiencia = {'AA':2e6,'AB':1.3e6,'AC':1e6,'BB':0.9e6,'BC':0.75e6,'CC':0.47e6}"
   ]
  },
  {
   "cell_type": "code",
   "execution_count": 3,
   "metadata": {},
   "outputs": [
    {
     "data": {
      "text/plain": [
       "{'AA': 2000000.0,\n",
       " 'AB': 1300000.0,\n",
       " 'AC': 1000000.0,\n",
       " 'BB': 900000.0,\n",
       " 'BC': 750000.0,\n",
       " 'CC': 470000.0}"
      ]
     },
     "execution_count": 3,
     "metadata": {},
     "output_type": "execute_result"
    }
   ],
   "source": [
    "mejor_audiencia"
   ]
  },
  {
   "cell_type": "markdown",
   "metadata": {},
   "source": [
    "Conociendo que el coeficiente unitario se da para el partido retransmitido el sábado a las 20:00, y que el resto de partidos, disminuyen dicho coeficiente, tenemos:"
   ]
  },
  {
   "cell_type": "code",
   "execution_count": 4,
   "metadata": {},
   "outputs": [
    {
     "data": {
      "text/html": [
       "<div>\n",
       "<style scoped>\n",
       "    .dataframe tbody tr th:only-of-type {\n",
       "        vertical-align: middle;\n",
       "    }\n",
       "\n",
       "    .dataframe tbody tr th {\n",
       "        vertical-align: top;\n",
       "    }\n",
       "\n",
       "    .dataframe thead th {\n",
       "        text-align: right;\n",
       "    }\n",
       "</style>\n",
       "<table border=\"1\" class=\"dataframe\">\n",
       "  <thead>\n",
       "    <tr style=\"text-align: right;\">\n",
       "      <th></th>\n",
       "      <th>dia</th>\n",
       "      <th>cr</th>\n",
       "    </tr>\n",
       "  </thead>\n",
       "  <tbody>\n",
       "    <tr>\n",
       "      <th>0</th>\n",
       "      <td>viernes_20h</td>\n",
       "      <td>0.40</td>\n",
       "    </tr>\n",
       "    <tr>\n",
       "      <th>1</th>\n",
       "      <td>sabado_12h</td>\n",
       "      <td>0.55</td>\n",
       "    </tr>\n",
       "    <tr>\n",
       "      <th>2</th>\n",
       "      <td>sabado_16h</td>\n",
       "      <td>0.70</td>\n",
       "    </tr>\n",
       "    <tr>\n",
       "      <th>3</th>\n",
       "      <td>sabado_18h</td>\n",
       "      <td>0.80</td>\n",
       "    </tr>\n",
       "    <tr>\n",
       "      <th>4</th>\n",
       "      <td>sabado_20h</td>\n",
       "      <td>1.00</td>\n",
       "    </tr>\n",
       "    <tr>\n",
       "      <th>5</th>\n",
       "      <td>domingo_12h</td>\n",
       "      <td>0.45</td>\n",
       "    </tr>\n",
       "    <tr>\n",
       "      <th>6</th>\n",
       "      <td>domingo_16h</td>\n",
       "      <td>0.75</td>\n",
       "    </tr>\n",
       "    <tr>\n",
       "      <th>7</th>\n",
       "      <td>domingo_18h</td>\n",
       "      <td>0.85</td>\n",
       "    </tr>\n",
       "    <tr>\n",
       "      <th>8</th>\n",
       "      <td>domingo_20h</td>\n",
       "      <td>1.00</td>\n",
       "    </tr>\n",
       "    <tr>\n",
       "      <th>9</th>\n",
       "      <td>lunes_20h</td>\n",
       "      <td>0.40</td>\n",
       "    </tr>\n",
       "  </tbody>\n",
       "</table>\n",
       "</div>"
      ],
      "text/plain": [
       "           dia    cr\n",
       "0  viernes_20h  0.40\n",
       "1   sabado_12h  0.55\n",
       "2   sabado_16h  0.70\n",
       "3   sabado_18h  0.80\n",
       "4   sabado_20h  1.00\n",
       "5  domingo_12h  0.45\n",
       "6  domingo_16h  0.75\n",
       "7  domingo_18h  0.85\n",
       "8  domingo_20h  1.00\n",
       "9    lunes_20h  0.40"
      ]
     },
     "execution_count": 4,
     "metadata": {},
     "output_type": "execute_result"
    }
   ],
   "source": [
    "cr_audiencias = pd.DataFrame(columns=('dia','cr'))\n",
    "\n",
    "cr_audiencias.loc[len(cr_audiencias)]=['viernes_20h',0.4]\n",
    "cr_audiencias.loc[len(cr_audiencias)]=['sabado_12h',0.55]\n",
    "cr_audiencias.loc[len(cr_audiencias)]=['sabado_16h',0.7]\n",
    "cr_audiencias.loc[len(cr_audiencias)]=['sabado_18h',0.8]\n",
    "cr_audiencias.loc[len(cr_audiencias)]=['sabado_20h',1]\n",
    "cr_audiencias.loc[len(cr_audiencias)]=['domingo_12h',0.45]\n",
    "cr_audiencias.loc[len(cr_audiencias)]=['domingo_16h',0.75]\n",
    "cr_audiencias.loc[len(cr_audiencias)]=['domingo_18h',0.85]\n",
    "cr_audiencias.loc[len(cr_audiencias)]=['domingo_20h',1]\n",
    "cr_audiencias.loc[len(cr_audiencias)]=['lunes_20h',0.4]\n",
    "\n",
    "cr_audiencias"
   ]
  },
  {
   "cell_type": "markdown",
   "metadata": {},
   "source": [
    "### Introducimos los datos de los partidos según su categoría"
   ]
  },
  {
   "cell_type": "markdown",
   "metadata": {},
   "source": [
    "Los equipos están categorizados en 3 clases (A, B, C), las cuales, influyen en la audiencia. Por tanto una combinatoria de dos equipos de clase A (AA), tendrá mejor audiencia que una de dos equipos de clase B (BB) y que decir de un partido con equipos de clase C (CC), pudiendo existir combinatorias de diferentes clases. Esto, lo mostramos en la siguiente tabla:"
   ]
  },
  {
   "cell_type": "markdown",
   "metadata": {},
   "source": [
    "<table>\r\n",
    "    \r\n",
    "<thead>\r\n",
    "<tr>\r\n",
    "\t<th></th>\r\n",
    "</tr>\r\n",
    "</thead>\r\n",
    "<tbody>\r\n",
    "    \r\n",
    "<tr> \r\n",
    "\t<th> AA</th>\r\n",
    "  <th> AB</th>\r\n",
    "  <th> AC</th>\r\n",
    "  <th> BB</th>\r\n",
    "  <th> BC</th>\r\n",
    "  <th> CC</th>  \r\n",
    "</tr>\r\n",
    "\r\n",
    "<tr>\r\n",
    "\t<td>2 M</td>\r\n",
    "  <td>1.3 M</td>\r\n",
    "  <td>1 M</td>\r\n",
    "  <td>0.9 M</td>\r\n",
    "  <td>0.75 M</td>\r\n",
    "  <td>0.47 M</td>\r\n",
    "</tr>\r\n",
    "  \r\n",
    "</tbody>\r\n",
    "</table>"
   ]
  },
  {
   "cell_type": "markdown",
   "metadata": {},
   "source": [
    "Teniendo en cuenta los datos aportados hasta el momento,, lo lógico para maximizar la audiencia, es asignar a los equipos de clase A (los que mayores seguidores tienen), las franjas horarias con mayores coeficientes, por lo que tendremos que ordenar los equipos de mayor a menor número de seguidores."
   ]
  },
  {
   "cell_type": "markdown",
   "metadata": {},
   "source": [
    "<table>\r\n",
    "    \r\n",
    "<thead>\r\n",
    "<tr>\r\n",
    "\t<th></th>\r\n",
    "</tr>\r\n",
    "</thead>\r\n",
    "<tbody>\r\n",
    "    \r\n",
    "<tr> \r\n",
    "  <th> Partido: </th>\r\n",
    "\t<th> AA</th>\r\n",
    "  <th> AB</th>\r\n",
    "  <th> AC</th>\r\n",
    "  <th> BB</th>\r\n",
    "  <th> BB</th>\r\n",
    "  <th> BB</th> \r\n",
    "  <th> BB</th>\r\n",
    "  <th> BC</th>  \r\n",
    "  <th> CC</th>  \r\n",
    "  <th> CC</th>  \r\n",
    "</tr>\r\n",
    "\r\n",
    "<tr>\r\n",
    "  <th> Mejor audiencia </th>\r\n",
    "\t<td>2 M</td>\r\n",
    "  <td>1.3 M</td>\r\n",
    "  <td>1 M</td>\r\n",
    "  <td>0.9 M</td>\r\n",
    "  <td>0.9 M</td>\r\n",
    "  <td>0.9 M</td>\r\n",
    "  <td>0.9 M</td>\r\n",
    "  <td>0.75 M</td>\r\n",
    "  <td>0.47 M</td>\r\n",
    "  <td>0.47 M</td>\r\n",
    "</tr>\r\n",
    "  \r\n",
    "<tr>\r\n",
    "  <th> Coeficiente: </th>\r\n",
    "\t<td>1</td>\r\n",
    "  <td>1</td>\r\n",
    "  <td>0.85</td>\r\n",
    "  <td>0.8</td>\r\n",
    "  <td>0.75</td>\r\n",
    "  <td>0.7</td>\r\n",
    "  <td>0.55</td>\r\n",
    "  <td>0.45</td>\r\n",
    "  <td>0.4</td>\r\n",
    "  <td>0.4</td>\r\n",
    "</tr>\r\n",
    "  \r\n",
    "<tr>\r\n",
    "  <th> Día: </th>\r\n",
    "\t<td>Sábado 20h</td>\r\n",
    "  <td>Domingo 20h</td>\r\n",
    "  <td>Domingo 18h</td>\r\n",
    "  <td>Sábado 18h</td>\r\n",
    "  <td>Domingo 16h</td>\r\n",
    "  <td>Sábado 16h</td>\r\n",
    "  <td>Sábado 12h</td>\r\n",
    "  <td>Domingo 12h</td>\r\n",
    "  <td>Viernes 20h</td>\r\n",
    "  <td>Lunes 20h</td>\r\n",
    "</tr>\r\n",
    "  \r\n",
    "</tbody>\r\n",
    "</table>"
   ]
  },
  {
   "cell_type": "markdown",
   "metadata": {},
   "source": [
    "Como se han de ordenar para obtener las mejores audiencias, un algoritmo de ordenación rápida como (**quick sort**), sería muy recomendado."
   ]
  },
  {
   "cell_type": "markdown",
   "metadata": {},
   "source": [
    "Fijándonos en la clase de los equipos que se han de enfrentar, se deberán reclasificar para obtener el objetivo prinipal, por lo que es recomendable realizar una conversión de la clase (A, B, C) a una numérica, pudiendo emplearse el código ASCII."
   ]
  },
  {
   "cell_type": "markdown",
   "metadata": {},
   "source": [
    "<table>\r\n",
    "    \r\n",
    "<thead>\r\n",
    "<tr>\r\n",
    "\t<th></th>\r\n",
    "</tr>\r\n",
    "</thead>\r\n",
    "<tbody>\r\n",
    "    \r\n",
    "  <tr> \r\n",
    "\t<th> Clase</th>\r\n",
    "  <th> ASCII</th>\r\n",
    "</tr>\r\n",
    "  \r\n",
    "<tr> \r\n",
    "\t<th> A</th>\r\n",
    "  <td>65</td>\r\n",
    "</tr>\r\n",
    "\r\n",
    "<tr> \r\n",
    "\t<th> B</th>\r\n",
    "  <td>66</td>\r\n",
    "</tr>\r\n",
    "  \r\n",
    "  <tr> \r\n",
    "\t<th> C</th>\r\n",
    "  <td>67</td>\r\n",
    "</tr>\r\n",
    "  \r\n",
    "</tbody>\r\n",
    "</table>"
   ]
  },
  {
   "cell_type": "markdown",
   "metadata": {},
   "source": [
    "Ordenando de mayor a menor audiencia las posibles combinaciones tenemos:"
   ]
  },
  {
   "cell_type": "markdown",
   "metadata": {},
   "source": [
    "<table>\r\n",
    "    \r\n",
    "<thead>\r\n",
    "<tr>\r\n",
    "\t<th></th>\r\n",
    "</tr>\r\n",
    "</thead>\r\n",
    "<tbody>\r\n",
    "    \r\n",
    "<tr> \r\n",
    "\t<th> AA</th>\r\n",
    "  <th> AB</th>\r\n",
    "  <th> AC</th>\r\n",
    "  <th> BB</th>\r\n",
    "  <th> BC</th>\r\n",
    "  <th> CC</th>  \r\n",
    "</tr>\r\n",
    "\r\n",
    "<tr>\r\n",
    "\t<td>6565</td>\r\n",
    "  <td>6566</td>\r\n",
    "  <td>6567</td>\r\n",
    "  <td>6666</td>\r\n",
    "  <td>6667</td>\r\n",
    "  <td>6767</td>\r\n",
    "</tr>\r\n",
    "  \r\n",
    "</tbody>\r\n",
    "</table>"
   ]
  },
  {
   "cell_type": "markdown",
   "metadata": {},
   "source": [
    "Nuestro objetivo es generar un algoritmo que organice los partidos en los horarios que nos otorguen la máxima audiencia en cada jornada. Como la audienca máxima corresponderá a la del partido que más espectadores tenga, en la situación de coincidir dos partidos en el mismo horario, nos está diciendo indirectamente, que no nos conviene que coincidan los partidos. Por ejemplo, si coinciden un partido AC y BC, la audiencia total en ese horario, sería la correspondiente al partido de la clase AC."
   ]
  },
  {
   "cell_type": "markdown",
   "metadata": {},
   "source": [
    "Por tanto, lo ideal sería conseguir, que se juegue **un solo partido en cada horario**, ya que la suma de todas las audiencias en las diferentes franajs horarias, aportarían significativamente a la audiencia global."
   ]
  },
  {
   "cell_type": "markdown",
   "metadata": {},
   "source": [
    "### Introducimos los equipos"
   ]
  },
  {
   "cell_type": "markdown",
   "metadata": {},
   "source": [
    "Hemos comentado que ésta liga se compone de 20 equipos, divididos en 3 clases, las cuales, corresponden a sus aficionados, lo que las categoriza de la siguiente manera:\n",
    "\n",
    "-  **Categoría A:** Mayor número de seguidores. Hay **4 equipos** en la categoría A\r\n",
    "-  **Categoría B:** Número intermedio de seguidores. Hay **10 equipos** de categoría B  \r\n",
    "-  **Categoría C:** Menor número de seguidores. Hay **6 equipos** de categoría C"
   ]
  },
  {
   "cell_type": "markdown",
   "metadata": {},
   "source": [
    "Para ello, vamos a almacenar los datos en un Data Frame de Pandas. Esto nos permitirá manipular los datos de manera sencilla."
   ]
  },
  {
   "cell_type": "code",
   "execution_count": 5,
   "metadata": {},
   "outputs": [],
   "source": [
    "# Equipos de la competición categorizados\n",
    "equipos_liga = pd.DataFrame(columns=('nombre','categoria'))\n",
    "\n",
    "equipos_liga.loc[len(equipos_liga)]=['Atlético de Madrid','A']\n",
    "equipos_liga.loc[len(equipos_liga)]=['F.C. Barcelona','A']\n",
    "equipos_liga.loc[len(equipos_liga)]=['Real Madrid','A']\n",
    "equipos_liga.loc[len(equipos_liga)]=['Sevilla F.C.','A']\n",
    "\n",
    "equipos_liga.loc[len(equipos_liga)]=['Athletic Club','B']\n",
    "equipos_liga.loc[len(equipos_liga)]=['C.D. Castellón','B']\n",
    "equipos_liga.loc[len(equipos_liga)]=['Getafe C.F.','B']\n",
    "equipos_liga.loc[len(equipos_liga)]=['Levante UD','B']\n",
    "equipos_liga.loc[len(equipos_liga)]=['RC Celta','B']\n",
    "equipos_liga.loc[len(equipos_liga)]=['RCD Espanyol','B']\n",
    "equipos_liga.loc[len(equipos_liga)]=['Real Betis B.P.','B']\n",
    "equipos_liga.loc[len(equipos_liga)]=['Real Valladolid','B']\n",
    "equipos_liga.loc[len(equipos_liga)]=['Real Zaragoza','B']\n",
    "equipos_liga.loc[len(equipos_liga)]=['Valencia C.F.','B']\n",
    "\n",
    "\n",
    "equipos_liga.loc[len(equipos_liga)]=['C.D. Leganés','C']\n",
    "equipos_liga.loc[len(equipos_liga)]=['D. Alavés','C']\n",
    "equipos_liga.loc[len(equipos_liga)]=['Girona F.C.','C']\n",
    "equipos_liga.loc[len(equipos_liga)]=['Real Sociedad','C']\n",
    "equipos_liga.loc[len(equipos_liga)]=['S.D. Eibar','C']\n",
    "equipos_liga.loc[len(equipos_liga)]=['S.D. Huesca','C']"
   ]
  },
  {
   "cell_type": "code",
   "execution_count": 6,
   "metadata": {},
   "outputs": [
    {
     "data": {
      "text/html": [
       "<div>\n",
       "<style scoped>\n",
       "    .dataframe tbody tr th:only-of-type {\n",
       "        vertical-align: middle;\n",
       "    }\n",
       "\n",
       "    .dataframe tbody tr th {\n",
       "        vertical-align: top;\n",
       "    }\n",
       "\n",
       "    .dataframe thead th {\n",
       "        text-align: right;\n",
       "    }\n",
       "</style>\n",
       "<table border=\"1\" class=\"dataframe\">\n",
       "  <thead>\n",
       "    <tr style=\"text-align: right;\">\n",
       "      <th></th>\n",
       "      <th>nombre</th>\n",
       "      <th>categoria</th>\n",
       "    </tr>\n",
       "  </thead>\n",
       "  <tbody>\n",
       "    <tr>\n",
       "      <th>0</th>\n",
       "      <td>Atlético de Madrid</td>\n",
       "      <td>A</td>\n",
       "    </tr>\n",
       "    <tr>\n",
       "      <th>1</th>\n",
       "      <td>F.C. Barcelona</td>\n",
       "      <td>A</td>\n",
       "    </tr>\n",
       "    <tr>\n",
       "      <th>2</th>\n",
       "      <td>Real Madrid</td>\n",
       "      <td>A</td>\n",
       "    </tr>\n",
       "    <tr>\n",
       "      <th>3</th>\n",
       "      <td>Sevilla F.C.</td>\n",
       "      <td>A</td>\n",
       "    </tr>\n",
       "    <tr>\n",
       "      <th>4</th>\n",
       "      <td>Athletic Club</td>\n",
       "      <td>B</td>\n",
       "    </tr>\n",
       "    <tr>\n",
       "      <th>5</th>\n",
       "      <td>C.D. Castellón</td>\n",
       "      <td>B</td>\n",
       "    </tr>\n",
       "    <tr>\n",
       "      <th>6</th>\n",
       "      <td>Getafe C.F.</td>\n",
       "      <td>B</td>\n",
       "    </tr>\n",
       "    <tr>\n",
       "      <th>7</th>\n",
       "      <td>Levante UD</td>\n",
       "      <td>B</td>\n",
       "    </tr>\n",
       "    <tr>\n",
       "      <th>8</th>\n",
       "      <td>RC Celta</td>\n",
       "      <td>B</td>\n",
       "    </tr>\n",
       "    <tr>\n",
       "      <th>9</th>\n",
       "      <td>RCD Espanyol</td>\n",
       "      <td>B</td>\n",
       "    </tr>\n",
       "    <tr>\n",
       "      <th>10</th>\n",
       "      <td>Real Betis B.P.</td>\n",
       "      <td>B</td>\n",
       "    </tr>\n",
       "    <tr>\n",
       "      <th>11</th>\n",
       "      <td>Real Valladolid</td>\n",
       "      <td>B</td>\n",
       "    </tr>\n",
       "    <tr>\n",
       "      <th>12</th>\n",
       "      <td>Real Zaragoza</td>\n",
       "      <td>B</td>\n",
       "    </tr>\n",
       "    <tr>\n",
       "      <th>13</th>\n",
       "      <td>Valencia C.F.</td>\n",
       "      <td>B</td>\n",
       "    </tr>\n",
       "    <tr>\n",
       "      <th>14</th>\n",
       "      <td>C.D. Leganés</td>\n",
       "      <td>C</td>\n",
       "    </tr>\n",
       "    <tr>\n",
       "      <th>15</th>\n",
       "      <td>D. Alavés</td>\n",
       "      <td>C</td>\n",
       "    </tr>\n",
       "    <tr>\n",
       "      <th>16</th>\n",
       "      <td>Girona F.C.</td>\n",
       "      <td>C</td>\n",
       "    </tr>\n",
       "    <tr>\n",
       "      <th>17</th>\n",
       "      <td>Real Sociedad</td>\n",
       "      <td>C</td>\n",
       "    </tr>\n",
       "    <tr>\n",
       "      <th>18</th>\n",
       "      <td>S.D. Eibar</td>\n",
       "      <td>C</td>\n",
       "    </tr>\n",
       "    <tr>\n",
       "      <th>19</th>\n",
       "      <td>S.D. Huesca</td>\n",
       "      <td>C</td>\n",
       "    </tr>\n",
       "  </tbody>\n",
       "</table>\n",
       "</div>"
      ],
      "text/plain": [
       "                nombre categoria\n",
       "0   Atlético de Madrid         A\n",
       "1       F.C. Barcelona         A\n",
       "2          Real Madrid         A\n",
       "3         Sevilla F.C.         A\n",
       "4        Athletic Club         B\n",
       "5       C.D. Castellón         B\n",
       "6          Getafe C.F.         B\n",
       "7           Levante UD         B\n",
       "8             RC Celta         B\n",
       "9         RCD Espanyol         B\n",
       "10     Real Betis B.P.         B\n",
       "11     Real Valladolid         B\n",
       "12       Real Zaragoza         B\n",
       "13       Valencia C.F.         B\n",
       "14        C.D. Leganés         C\n",
       "15           D. Alavés         C\n",
       "16         Girona F.C.         C\n",
       "17       Real Sociedad         C\n",
       "18          S.D. Eibar         C\n",
       "19         S.D. Huesca         C"
      ]
     },
     "execution_count": 6,
     "metadata": {},
     "output_type": "execute_result"
    }
   ],
   "source": [
    "# Mostralos equipos participantes\n",
    "equipos_liga"
   ]
  },
  {
   "cell_type": "markdown",
   "metadata": {},
   "source": [
    "### Enfrentamientos aleatorios"
   ]
  },
  {
   "cell_type": "markdown",
   "metadata": {},
   "source": [
    "#### Función al azar"
   ]
  },
  {
   "cell_type": "markdown",
   "metadata": {},
   "source": [
    "Dieñamos un algoritmo que que genere enfrentamientos entre los equipos pares (incluyendo el cero en ésta sección) contra los impares.\n",
    "\n",
    "Esto nos servirá para organizar la competición entera con constantes mejoras."
   ]
  },
  {
   "cell_type": "code",
   "execution_count": 7,
   "metadata": {},
   "outputs": [],
   "source": [
    "def crear_jornada_aleatoria(equipos_liga):\n",
    "  df = equipos_liga.iloc[np.random.permutation(len(equipos_liga))]\n",
    "  return df"
   ]
  },
  {
   "cell_type": "code",
   "execution_count": 8,
   "metadata": {},
   "outputs": [],
   "source": [
    "# Generamos la jornada aleatoria\n",
    "jornada_aleatoria = crear_jornada_aleatoria(equipos_liga)"
   ]
  },
  {
   "cell_type": "code",
   "execution_count": 9,
   "metadata": {},
   "outputs": [
    {
     "data": {
      "text/html": [
       "<div>\n",
       "<style scoped>\n",
       "    .dataframe tbody tr th:only-of-type {\n",
       "        vertical-align: middle;\n",
       "    }\n",
       "\n",
       "    .dataframe tbody tr th {\n",
       "        vertical-align: top;\n",
       "    }\n",
       "\n",
       "    .dataframe thead th {\n",
       "        text-align: right;\n",
       "    }\n",
       "</style>\n",
       "<table border=\"1\" class=\"dataframe\">\n",
       "  <thead>\n",
       "    <tr style=\"text-align: right;\">\n",
       "      <th></th>\n",
       "      <th>nombre</th>\n",
       "      <th>categoria</th>\n",
       "    </tr>\n",
       "  </thead>\n",
       "  <tbody>\n",
       "    <tr>\n",
       "      <th>15</th>\n",
       "      <td>D. Alavés</td>\n",
       "      <td>C</td>\n",
       "    </tr>\n",
       "    <tr>\n",
       "      <th>2</th>\n",
       "      <td>Real Madrid</td>\n",
       "      <td>A</td>\n",
       "    </tr>\n",
       "    <tr>\n",
       "      <th>0</th>\n",
       "      <td>Atlético de Madrid</td>\n",
       "      <td>A</td>\n",
       "    </tr>\n",
       "    <tr>\n",
       "      <th>19</th>\n",
       "      <td>S.D. Huesca</td>\n",
       "      <td>C</td>\n",
       "    </tr>\n",
       "    <tr>\n",
       "      <th>3</th>\n",
       "      <td>Sevilla F.C.</td>\n",
       "      <td>A</td>\n",
       "    </tr>\n",
       "    <tr>\n",
       "      <th>9</th>\n",
       "      <td>RCD Espanyol</td>\n",
       "      <td>B</td>\n",
       "    </tr>\n",
       "    <tr>\n",
       "      <th>12</th>\n",
       "      <td>Real Zaragoza</td>\n",
       "      <td>B</td>\n",
       "    </tr>\n",
       "    <tr>\n",
       "      <th>14</th>\n",
       "      <td>C.D. Leganés</td>\n",
       "      <td>C</td>\n",
       "    </tr>\n",
       "    <tr>\n",
       "      <th>7</th>\n",
       "      <td>Levante UD</td>\n",
       "      <td>B</td>\n",
       "    </tr>\n",
       "    <tr>\n",
       "      <th>8</th>\n",
       "      <td>RC Celta</td>\n",
       "      <td>B</td>\n",
       "    </tr>\n",
       "    <tr>\n",
       "      <th>11</th>\n",
       "      <td>Real Valladolid</td>\n",
       "      <td>B</td>\n",
       "    </tr>\n",
       "    <tr>\n",
       "      <th>5</th>\n",
       "      <td>C.D. Castellón</td>\n",
       "      <td>B</td>\n",
       "    </tr>\n",
       "    <tr>\n",
       "      <th>16</th>\n",
       "      <td>Girona F.C.</td>\n",
       "      <td>C</td>\n",
       "    </tr>\n",
       "    <tr>\n",
       "      <th>1</th>\n",
       "      <td>F.C. Barcelona</td>\n",
       "      <td>A</td>\n",
       "    </tr>\n",
       "    <tr>\n",
       "      <th>6</th>\n",
       "      <td>Getafe C.F.</td>\n",
       "      <td>B</td>\n",
       "    </tr>\n",
       "    <tr>\n",
       "      <th>18</th>\n",
       "      <td>S.D. Eibar</td>\n",
       "      <td>C</td>\n",
       "    </tr>\n",
       "    <tr>\n",
       "      <th>4</th>\n",
       "      <td>Athletic Club</td>\n",
       "      <td>B</td>\n",
       "    </tr>\n",
       "    <tr>\n",
       "      <th>10</th>\n",
       "      <td>Real Betis B.P.</td>\n",
       "      <td>B</td>\n",
       "    </tr>\n",
       "    <tr>\n",
       "      <th>17</th>\n",
       "      <td>Real Sociedad</td>\n",
       "      <td>C</td>\n",
       "    </tr>\n",
       "    <tr>\n",
       "      <th>13</th>\n",
       "      <td>Valencia C.F.</td>\n",
       "      <td>B</td>\n",
       "    </tr>\n",
       "  </tbody>\n",
       "</table>\n",
       "</div>"
      ],
      "text/plain": [
       "                nombre categoria\n",
       "15           D. Alavés         C\n",
       "2          Real Madrid         A\n",
       "0   Atlético de Madrid         A\n",
       "19         S.D. Huesca         C\n",
       "3         Sevilla F.C.         A\n",
       "9         RCD Espanyol         B\n",
       "12       Real Zaragoza         B\n",
       "14        C.D. Leganés         C\n",
       "7           Levante UD         B\n",
       "8             RC Celta         B\n",
       "11     Real Valladolid         B\n",
       "5       C.D. Castellón         B\n",
       "16         Girona F.C.         C\n",
       "1       F.C. Barcelona         A\n",
       "6          Getafe C.F.         B\n",
       "18          S.D. Eibar         C\n",
       "4        Athletic Club         B\n",
       "10     Real Betis B.P.         B\n",
       "17       Real Sociedad         C\n",
       "13       Valencia C.F.         B"
      ]
     },
     "execution_count": 9,
     "metadata": {},
     "output_type": "execute_result"
    }
   ],
   "source": [
    "jornada_aleatoria"
   ]
  },
  {
   "cell_type": "markdown",
   "metadata": {},
   "source": [
    "#### Mejora de la jornada"
   ]
  },
  {
   "cell_type": "markdown",
   "metadata": {},
   "source": [
    "Generamos un Data Frame que contenga:"
   ]
  },
  {
   "cell_type": "markdown",
   "metadata": {},
   "source": [
    "- Numero generado por el código ASCII de las clases de los equipos (cat_num)\r\n",
    "- laase del partido clasea)\r\n",
    "- Nombre de los equipos que se enfrentan (equipos)"
   ]
  },
  {
   "cell_type": "code",
   "execution_count": 10,
   "metadata": {},
   "outputs": [],
   "source": [
    "# Cada fila contiene los datos de un enfrentamiento\n",
    "\n",
    "def crear_DF_jornada(df_original):\n",
    "  df_jornada = pd.DataFrame(columns=('cat_num','categoria','equipos'))          # 1\n",
    "  \n",
    "  for i in range(0,len(df_original),2):                                         # n/2\n",
    "    # obtener valor de la categoria de cada equipo (A, B o C):\n",
    "    cat_1 = df_original.iloc(axis=0)[i]['categoria']                            \n",
    "    cat_2 = df_original.iloc(axis=0)[i+1]['categoria']\n",
    "  \n",
    "    # Condicional\n",
    "    if cat_1 < cat_2:\n",
    "      cp = cat_1 + cat_2 # Categoria del partido\n",
    "      cn = int(str(ord(cat_1)) + str(ord(cat_2)))# Categoria numérica\n",
    "      nom = df_original.iloc(axis=0)[i]['nombre'] + '  - vs -  '+ df_original.iloc(axis=0)[i+1]['nombre']# nombre de los equipos\n",
    "    \n",
    "    else:\n",
    "      cp = cat_2 + cat_1 # Categoria del partido\n",
    "      cn = int(str(ord(cat_2)) + str(ord(cat_1)))# Categoria numerica\n",
    "      nom = df_original.iloc(axis=0)[i+1]['nombre'] + '  - vs -  '+ df_original.iloc(axis=0)[i]['nombre']\n",
    "  \n",
    "    # Asignamos fila al DF (enfrentamiento entre dos equipos)\n",
    "    df_jornada.loc[len(df_jornada)]=[cn,cp,nom]\n",
    "    \n",
    "  return df_jornada"
   ]
  },
  {
   "cell_type": "code",
   "execution_count": 11,
   "metadata": {},
   "outputs": [],
   "source": [
    "# Data Frame de la jornada\n",
    "df_jornada = crear_DF_jornada(jornada_aleatoria)"
   ]
  },
  {
   "cell_type": "code",
   "execution_count": 12,
   "metadata": {},
   "outputs": [
    {
     "data": {
      "text/html": [
       "<div>\n",
       "<style scoped>\n",
       "    .dataframe tbody tr th:only-of-type {\n",
       "        vertical-align: middle;\n",
       "    }\n",
       "\n",
       "    .dataframe tbody tr th {\n",
       "        vertical-align: top;\n",
       "    }\n",
       "\n",
       "    .dataframe thead th {\n",
       "        text-align: right;\n",
       "    }\n",
       "</style>\n",
       "<table border=\"1\" class=\"dataframe\">\n",
       "  <thead>\n",
       "    <tr style=\"text-align: right;\">\n",
       "      <th></th>\n",
       "      <th>cat_num</th>\n",
       "      <th>categoria</th>\n",
       "      <th>equipos</th>\n",
       "    </tr>\n",
       "  </thead>\n",
       "  <tbody>\n",
       "    <tr>\n",
       "      <th>0</th>\n",
       "      <td>6567</td>\n",
       "      <td>AC</td>\n",
       "      <td>Real Madrid  - vs -  D. Alavés</td>\n",
       "    </tr>\n",
       "    <tr>\n",
       "      <th>1</th>\n",
       "      <td>6567</td>\n",
       "      <td>AC</td>\n",
       "      <td>Atlético de Madrid  - vs -  S.D. Huesca</td>\n",
       "    </tr>\n",
       "    <tr>\n",
       "      <th>2</th>\n",
       "      <td>6566</td>\n",
       "      <td>AB</td>\n",
       "      <td>Sevilla F.C.  - vs -  RCD Espanyol</td>\n",
       "    </tr>\n",
       "    <tr>\n",
       "      <th>3</th>\n",
       "      <td>6667</td>\n",
       "      <td>BC</td>\n",
       "      <td>Real Zaragoza  - vs -  C.D. Leganés</td>\n",
       "    </tr>\n",
       "    <tr>\n",
       "      <th>4</th>\n",
       "      <td>6666</td>\n",
       "      <td>BB</td>\n",
       "      <td>RC Celta  - vs -  Levante UD</td>\n",
       "    </tr>\n",
       "    <tr>\n",
       "      <th>5</th>\n",
       "      <td>6666</td>\n",
       "      <td>BB</td>\n",
       "      <td>C.D. Castellón  - vs -  Real Valladolid</td>\n",
       "    </tr>\n",
       "    <tr>\n",
       "      <th>6</th>\n",
       "      <td>6567</td>\n",
       "      <td>AC</td>\n",
       "      <td>F.C. Barcelona  - vs -  Girona F.C.</td>\n",
       "    </tr>\n",
       "    <tr>\n",
       "      <th>7</th>\n",
       "      <td>6667</td>\n",
       "      <td>BC</td>\n",
       "      <td>Getafe C.F.  - vs -  S.D. Eibar</td>\n",
       "    </tr>\n",
       "    <tr>\n",
       "      <th>8</th>\n",
       "      <td>6666</td>\n",
       "      <td>BB</td>\n",
       "      <td>Real Betis B.P.  - vs -  Athletic Club</td>\n",
       "    </tr>\n",
       "    <tr>\n",
       "      <th>9</th>\n",
       "      <td>6667</td>\n",
       "      <td>BC</td>\n",
       "      <td>Valencia C.F.  - vs -  Real Sociedad</td>\n",
       "    </tr>\n",
       "  </tbody>\n",
       "</table>\n",
       "</div>"
      ],
      "text/plain": [
       "   cat_num categoria                                  equipos\n",
       "0     6567        AC           Real Madrid  - vs -  D. Alavés\n",
       "1     6567        AC  Atlético de Madrid  - vs -  S.D. Huesca\n",
       "2     6566        AB       Sevilla F.C.  - vs -  RCD Espanyol\n",
       "3     6667        BC      Real Zaragoza  - vs -  C.D. Leganés\n",
       "4     6666        BB             RC Celta  - vs -  Levante UD\n",
       "5     6666        BB  C.D. Castellón  - vs -  Real Valladolid\n",
       "6     6567        AC      F.C. Barcelona  - vs -  Girona F.C.\n",
       "7     6667        BC          Getafe C.F.  - vs -  S.D. Eibar\n",
       "8     6666        BB   Real Betis B.P.  - vs -  Athletic Club\n",
       "9     6667        BC     Valencia C.F.  - vs -  Real Sociedad"
      ]
     },
     "execution_count": 12,
     "metadata": {},
     "output_type": "execute_result"
    }
   ],
   "source": [
    "df_jornada"
   ]
  },
  {
   "cell_type": "markdown",
   "metadata": {},
   "source": [
    "Tenemos que considerar que no será la misma audiencia un partido de clase AC = 6567 que un partido de clase CA = 6765, por lo que hemos introducido el condicional señalado."
   ]
  },
  {
   "cell_type": "markdown",
   "metadata": {},
   "source": [
    "#### Creación de la lista preparada (Función)"
   ]
  },
  {
   "cell_type": "code",
   "execution_count": 13,
   "metadata": {},
   "outputs": [],
   "source": [
    "def obterner_enfrentamientos_jornada_aleatorios(equipos_liga):\n",
    "  #  Obtener jornada aleatoria a partir de los equipos del torneo\n",
    "  jornada_aleatoria = crear_jornada_aleatoria(equipos_liga)# Obtener jornada aleatoria\n",
    "  \n",
    "  # Obtener un Data Frame con los partidos de forma legible (Formato de nuestra funcion)\n",
    "  return crear_DF_jornada(jornada_aleatoria) "
   ]
  },
  {
   "cell_type": "markdown",
   "metadata": {},
   "source": [
    "- ¿Cual es la función objetivo?"
   ]
  },
  {
   "cell_type": "markdown",
   "metadata": {},
   "source": [
    "La función objetivo es del tipo:\r\n",
    "\r\n",
    "> f(x1, ..., xn) = c1·x1 + ... + cn·xn\r\n",
    "\r\n",
    "donde:\r\n",
    "\r\n",
    "- x1, .., xn = son las audiencias de cada partido\r\n",
    "- c1, .., cn = son los coeficientes te reducción de audienzas (en función de los horarios)\r\n",
    "\r\n",
    "Se trata de un donde buscamos maximizar la audiencia durante la jornada.jornada. "
   ]
  },
  {
   "cell_type": "markdown",
   "metadata": {},
   "source": [
    "#### Diseño del algoritmo"
   ]
  },
  {
   "cell_type": "markdown",
   "metadata": {},
   "source": [
    "Para resolver esta situación, se decide desarrollar un algoritmo por fuerza bruta"
   ]
  },
  {
   "cell_type": "markdown",
   "metadata": {},
   "source": [
    "La mayor dificultad que nos encontramos, es la de generar un algoritmo de búsqueda, que ordene de manera correcta los enfrentamientos. Dicha ordenación, correspondería al orden n². Revisando esa situación, y extrapolándola al método de la fuerza bruta, se decie implementar un algoritmo de **ordenación por selección** , ya que, a pesar de su complejidad cuadrática **O (n) = n²** para esta situación, nos permitirá realizar las mismas operaciones."
   ]
  },
  {
   "cell_type": "markdown",
   "metadata": {},
   "source": [
    "Este algoritmo buscará el menor valor de la lista, y, una vez encontrado, lo colocará en primer lugar, sustituyendo al que ocupaba esa posición, realizando la misma acción con el resto de valores hasta crear una lista completa con las nuevas posiciones"
   ]
  },
  {
   "cell_type": "markdown",
   "metadata": {},
   "source": [
    "### Clasificación de menor a mayor"
   ]
  },
  {
   "cell_type": "markdown",
   "metadata": {},
   "source": []
  },
  {
   "cell_type": "code",
   "execution_count": 14,
   "metadata": {},
   "outputs": [],
   "source": [
    "# ordenacion ascendente (menor a mayor)\n",
    "def ordenacion_seleccion(df,col_ordenar):\n",
    "  \n",
    "  df_ordenado = df.copy() # conservar df sin ordenar\n",
    "  \n",
    "  # Esto permite omitir la contina sustitución de las posiciones, simplificando el código.\n",
    "  for i in range(len(df)):\n",
    "    posicion_min = i # Almacenaremos el indice del menor valor\n",
    "    \n",
    "    for j in range(i+1,len(df)): # Recorremos el resto de la lista para ver cual es el menor de los que quedan\n",
    "      # El valor en 'posicion_min' es mayor que en 'j' --> Si : valor en j menor que en 'posicion_min'\n",
    "          \n",
    "      if (df_ordenado.iloc(axis=0)[posicion_min][col_ordenar] > df_ordenado.iloc(axis=0)[j][col_ordenar]):\n",
    "        posicion_min = j # el valor menor pasa a ser el que hay en 'j', almaceno incice en 'posicion_min'\n",
    "\n",
    "    # valor actual en la ultima posicion de la sublista ordenada (a excepcion del indice 'i'):\n",
    "    aux = df_ordenado.iloc(axis=0)[i].copy()\n",
    "    # si no pones  'copy' aux se mosifica en la siguiente intruccion, y por lo tanto \n",
    "    # estaria dos veces el valor de df_ordenado.iloc(axis=0)[posicion_min]\n",
    "    \n",
    "    # Valor que debe de ir en 'i' (menor que i+n y menor que i-n):\n",
    "    df_ordenado.loc[i] = df_ordenado.iloc(axis=0)[posicion_min]\n",
    "    # intarcambiamos, el valor original en 'i' pasa donde estaba el menor:\n",
    "    df_ordenado.loc[posicion_min] = aux\n",
    "\n",
    "  return df_ordenado    "
   ]
  },
  {
   "cell_type": "code",
   "execution_count": 15,
   "metadata": {},
   "outputs": [],
   "source": [
    "partidos_ordenados = ordenacion_seleccion(df_jornada,'cat_num')"
   ]
  },
  {
   "cell_type": "code",
   "execution_count": 16,
   "metadata": {},
   "outputs": [
    {
     "data": {
      "text/html": [
       "<div>\n",
       "<style scoped>\n",
       "    .dataframe tbody tr th:only-of-type {\n",
       "        vertical-align: middle;\n",
       "    }\n",
       "\n",
       "    .dataframe tbody tr th {\n",
       "        vertical-align: top;\n",
       "    }\n",
       "\n",
       "    .dataframe thead th {\n",
       "        text-align: right;\n",
       "    }\n",
       "</style>\n",
       "<table border=\"1\" class=\"dataframe\">\n",
       "  <thead>\n",
       "    <tr style=\"text-align: right;\">\n",
       "      <th></th>\n",
       "      <th>cat_num</th>\n",
       "      <th>categoria</th>\n",
       "      <th>equipos</th>\n",
       "    </tr>\n",
       "  </thead>\n",
       "  <tbody>\n",
       "    <tr>\n",
       "      <th>0</th>\n",
       "      <td>6566</td>\n",
       "      <td>AB</td>\n",
       "      <td>Sevilla F.C.  - vs -  RCD Espanyol</td>\n",
       "    </tr>\n",
       "    <tr>\n",
       "      <th>1</th>\n",
       "      <td>6567</td>\n",
       "      <td>AC</td>\n",
       "      <td>Atlético de Madrid  - vs -  S.D. Huesca</td>\n",
       "    </tr>\n",
       "    <tr>\n",
       "      <th>2</th>\n",
       "      <td>6567</td>\n",
       "      <td>AC</td>\n",
       "      <td>Real Madrid  - vs -  D. Alavés</td>\n",
       "    </tr>\n",
       "    <tr>\n",
       "      <th>3</th>\n",
       "      <td>6567</td>\n",
       "      <td>AC</td>\n",
       "      <td>F.C. Barcelona  - vs -  Girona F.C.</td>\n",
       "    </tr>\n",
       "    <tr>\n",
       "      <th>4</th>\n",
       "      <td>6666</td>\n",
       "      <td>BB</td>\n",
       "      <td>RC Celta  - vs -  Levante UD</td>\n",
       "    </tr>\n",
       "    <tr>\n",
       "      <th>5</th>\n",
       "      <td>6666</td>\n",
       "      <td>BB</td>\n",
       "      <td>C.D. Castellón  - vs -  Real Valladolid</td>\n",
       "    </tr>\n",
       "    <tr>\n",
       "      <th>6</th>\n",
       "      <td>6666</td>\n",
       "      <td>BB</td>\n",
       "      <td>Real Betis B.P.  - vs -  Athletic Club</td>\n",
       "    </tr>\n",
       "    <tr>\n",
       "      <th>7</th>\n",
       "      <td>6667</td>\n",
       "      <td>BC</td>\n",
       "      <td>Getafe C.F.  - vs -  S.D. Eibar</td>\n",
       "    </tr>\n",
       "    <tr>\n",
       "      <th>8</th>\n",
       "      <td>6667</td>\n",
       "      <td>BC</td>\n",
       "      <td>Real Zaragoza  - vs -  C.D. Leganés</td>\n",
       "    </tr>\n",
       "    <tr>\n",
       "      <th>9</th>\n",
       "      <td>6667</td>\n",
       "      <td>BC</td>\n",
       "      <td>Valencia C.F.  - vs -  Real Sociedad</td>\n",
       "    </tr>\n",
       "  </tbody>\n",
       "</table>\n",
       "</div>"
      ],
      "text/plain": [
       "   cat_num categoria                                  equipos\n",
       "0     6566        AB       Sevilla F.C.  - vs -  RCD Espanyol\n",
       "1     6567        AC  Atlético de Madrid  - vs -  S.D. Huesca\n",
       "2     6567        AC           Real Madrid  - vs -  D. Alavés\n",
       "3     6567        AC      F.C. Barcelona  - vs -  Girona F.C.\n",
       "4     6666        BB             RC Celta  - vs -  Levante UD\n",
       "5     6666        BB  C.D. Castellón  - vs -  Real Valladolid\n",
       "6     6666        BB   Real Betis B.P.  - vs -  Athletic Club\n",
       "7     6667        BC          Getafe C.F.  - vs -  S.D. Eibar\n",
       "8     6667        BC      Real Zaragoza  - vs -  C.D. Leganés\n",
       "9     6667        BC     Valencia C.F.  - vs -  Real Sociedad"
      ]
     },
     "execution_count": 16,
     "metadata": {},
     "output_type": "execute_result"
    }
   ],
   "source": [
    "partidos_ordenados"
   ]
  },
  {
   "cell_type": "markdown",
   "metadata": {},
   "source": [
    "### Clasificación de mayor a menor"
   ]
  },
  {
   "cell_type": "markdown",
   "metadata": {},
   "source": [
    "Para añadir los coeficiente de las audiencias de los partidos, necesitamos ordenarlos de mayor a menor, lo que permitirá interactuar con los coeficientes de reducción aplicados a las audiencias."
   ]
  },
  {
   "cell_type": "markdown",
   "metadata": {},
   "source": [
    "Se podría aplicar la función sort de Pandas, pero al no existir variación en el valor de los coeficientes a pesar de el desarrollo de las diferentes jornadas, lo más adecuado es aplicar una función **quick sort** que ordene de mayor a menos."
   ]
  },
  {
   "cell_type": "code",
   "execution_count": 17,
   "metadata": {},
   "outputs": [],
   "source": [
    "# ordenacion descendente (mayor a menor)\n",
    "def ordenacion_seleccion_mayor(df,col_ordenar):\n",
    "  \n",
    "  df_ordenado = df.copy() # para conservar df sin ordenar\n",
    "  \n",
    "  # Esto permite omitir la contina sustitución de las posiciones, simplificando el código.\n",
    "  for i in range(len(df)):\n",
    "    posicion_max = i # Almacenaremos el indice del mayor valor\n",
    "      \n",
    "    for j in range(i+1,len(df)): # Recorremos el resto de la lista para ver cual es el mayor de los que quedan\n",
    "      # El valor en 'posicion_max' es mayor que en 'j' --> Si : valor en j mayor que en 'posicion_max'\n",
    "          \n",
    "      if (df_ordenado.iloc(axis=0)[posicion_max][col_ordenar] <  df_ordenado.iloc(axis=0)[j][col_ordenar]):\n",
    "        posicion_max = j # el valor mayor pasa a ser el que hay en 'j', almaceno incice en 'posicion_max'\n",
    "          \n",
    "    # valor actual en la ultima posicion de la sublista ordenada (a excepcion del indice 'i'):\n",
    "    aux = df_ordenado.iloc(axis=0)[i].copy()\n",
    "    # si no pones  'copy' aux se mosifica en la siguiente intruccion, y por lo tanto \n",
    "    # estaria dos veces el valor de df_ordenado.iloc(axis=0)[posicion_min]\n",
    "    \n",
    "    # Valor que debe de ir en 'i' (mayor que i+n y mayor que i-n):\n",
    "    df_ordenado.loc[i] = df_ordenado.iloc(axis=0)[posicion_max]\n",
    "    # intarcambiamos, el valor original en 'i' pasa donde estaba el mayor:\n",
    "    df_ordenado.loc[posicion_max] = aux\n",
    "      \n",
    "  return df_ordenado    "
   ]
  },
  {
   "cell_type": "code",
   "execution_count": 18,
   "metadata": {},
   "outputs": [],
   "source": [
    "cr_audiencias_ordenado = ordenacion_seleccion_mayor(cr_audiencias, 'cr')"
   ]
  },
  {
   "cell_type": "code",
   "execution_count": 19,
   "metadata": {},
   "outputs": [
    {
     "data": {
      "text/html": [
       "<div>\n",
       "<style scoped>\n",
       "    .dataframe tbody tr th:only-of-type {\n",
       "        vertical-align: middle;\n",
       "    }\n",
       "\n",
       "    .dataframe tbody tr th {\n",
       "        vertical-align: top;\n",
       "    }\n",
       "\n",
       "    .dataframe thead th {\n",
       "        text-align: right;\n",
       "    }\n",
       "</style>\n",
       "<table border=\"1\" class=\"dataframe\">\n",
       "  <thead>\n",
       "    <tr style=\"text-align: right;\">\n",
       "      <th></th>\n",
       "      <th>dia</th>\n",
       "      <th>cr</th>\n",
       "    </tr>\n",
       "  </thead>\n",
       "  <tbody>\n",
       "    <tr>\n",
       "      <th>0</th>\n",
       "      <td>sabado_20h</td>\n",
       "      <td>1.00</td>\n",
       "    </tr>\n",
       "    <tr>\n",
       "      <th>1</th>\n",
       "      <td>domingo_20h</td>\n",
       "      <td>1.00</td>\n",
       "    </tr>\n",
       "    <tr>\n",
       "      <th>2</th>\n",
       "      <td>domingo_18h</td>\n",
       "      <td>0.85</td>\n",
       "    </tr>\n",
       "    <tr>\n",
       "      <th>3</th>\n",
       "      <td>sabado_18h</td>\n",
       "      <td>0.80</td>\n",
       "    </tr>\n",
       "    <tr>\n",
       "      <th>4</th>\n",
       "      <td>domingo_16h</td>\n",
       "      <td>0.75</td>\n",
       "    </tr>\n",
       "    <tr>\n",
       "      <th>5</th>\n",
       "      <td>sabado_16h</td>\n",
       "      <td>0.70</td>\n",
       "    </tr>\n",
       "    <tr>\n",
       "      <th>6</th>\n",
       "      <td>sabado_12h</td>\n",
       "      <td>0.55</td>\n",
       "    </tr>\n",
       "    <tr>\n",
       "      <th>7</th>\n",
       "      <td>domingo_12h</td>\n",
       "      <td>0.45</td>\n",
       "    </tr>\n",
       "    <tr>\n",
       "      <th>8</th>\n",
       "      <td>viernes_20h</td>\n",
       "      <td>0.40</td>\n",
       "    </tr>\n",
       "    <tr>\n",
       "      <th>9</th>\n",
       "      <td>lunes_20h</td>\n",
       "      <td>0.40</td>\n",
       "    </tr>\n",
       "  </tbody>\n",
       "</table>\n",
       "</div>"
      ],
      "text/plain": [
       "           dia    cr\n",
       "0   sabado_20h  1.00\n",
       "1  domingo_20h  1.00\n",
       "2  domingo_18h  0.85\n",
       "3   sabado_18h  0.80\n",
       "4  domingo_16h  0.75\n",
       "5   sabado_16h  0.70\n",
       "6   sabado_12h  0.55\n",
       "7  domingo_12h  0.45\n",
       "8  viernes_20h  0.40\n",
       "9    lunes_20h  0.40"
      ]
     },
     "execution_count": 19,
     "metadata": {},
     "output_type": "execute_result"
    }
   ],
   "source": [
    "cr_audiencias_ordenado"
   ]
  },
  {
   "cell_type": "markdown",
   "metadata": {},
   "source": [
    "#### 1ª interacción con el coeficiente de audiencia"
   ]
  },
  {
   "cell_type": "markdown",
   "metadata": {},
   "source": [
    "Nuestro objetivo va a ser combinar los índices de audiencia deseados con la lista de los partidos ordenados, cosa que se simplifica por la utilización de la función quick sort."
   ]
  },
  {
   "cell_type": "code",
   "execution_count": 20,
   "metadata": {},
   "outputs": [],
   "source": [
    "cr_audiencias_ordenado.index = partidos_ordenados.index"
   ]
  },
  {
   "cell_type": "code",
   "execution_count": 21,
   "metadata": {},
   "outputs": [],
   "source": [
    "partidos_ordenados[['dia','cr']] = cr_audiencias_ordenado"
   ]
  },
  {
   "cell_type": "code",
   "execution_count": 22,
   "metadata": {},
   "outputs": [
    {
     "data": {
      "text/html": [
       "<div>\n",
       "<style scoped>\n",
       "    .dataframe tbody tr th:only-of-type {\n",
       "        vertical-align: middle;\n",
       "    }\n",
       "\n",
       "    .dataframe tbody tr th {\n",
       "        vertical-align: top;\n",
       "    }\n",
       "\n",
       "    .dataframe thead th {\n",
       "        text-align: right;\n",
       "    }\n",
       "</style>\n",
       "<table border=\"1\" class=\"dataframe\">\n",
       "  <thead>\n",
       "    <tr style=\"text-align: right;\">\n",
       "      <th></th>\n",
       "      <th>cat_num</th>\n",
       "      <th>categoria</th>\n",
       "      <th>equipos</th>\n",
       "      <th>dia</th>\n",
       "      <th>cr</th>\n",
       "    </tr>\n",
       "  </thead>\n",
       "  <tbody>\n",
       "    <tr>\n",
       "      <th>0</th>\n",
       "      <td>6566</td>\n",
       "      <td>AB</td>\n",
       "      <td>Sevilla F.C.  - vs -  RCD Espanyol</td>\n",
       "      <td>sabado_20h</td>\n",
       "      <td>1.00</td>\n",
       "    </tr>\n",
       "    <tr>\n",
       "      <th>1</th>\n",
       "      <td>6567</td>\n",
       "      <td>AC</td>\n",
       "      <td>Atlético de Madrid  - vs -  S.D. Huesca</td>\n",
       "      <td>domingo_20h</td>\n",
       "      <td>1.00</td>\n",
       "    </tr>\n",
       "    <tr>\n",
       "      <th>2</th>\n",
       "      <td>6567</td>\n",
       "      <td>AC</td>\n",
       "      <td>Real Madrid  - vs -  D. Alavés</td>\n",
       "      <td>domingo_18h</td>\n",
       "      <td>0.85</td>\n",
       "    </tr>\n",
       "    <tr>\n",
       "      <th>3</th>\n",
       "      <td>6567</td>\n",
       "      <td>AC</td>\n",
       "      <td>F.C. Barcelona  - vs -  Girona F.C.</td>\n",
       "      <td>sabado_18h</td>\n",
       "      <td>0.80</td>\n",
       "    </tr>\n",
       "    <tr>\n",
       "      <th>4</th>\n",
       "      <td>6666</td>\n",
       "      <td>BB</td>\n",
       "      <td>RC Celta  - vs -  Levante UD</td>\n",
       "      <td>domingo_16h</td>\n",
       "      <td>0.75</td>\n",
       "    </tr>\n",
       "    <tr>\n",
       "      <th>5</th>\n",
       "      <td>6666</td>\n",
       "      <td>BB</td>\n",
       "      <td>C.D. Castellón  - vs -  Real Valladolid</td>\n",
       "      <td>sabado_16h</td>\n",
       "      <td>0.70</td>\n",
       "    </tr>\n",
       "    <tr>\n",
       "      <th>6</th>\n",
       "      <td>6666</td>\n",
       "      <td>BB</td>\n",
       "      <td>Real Betis B.P.  - vs -  Athletic Club</td>\n",
       "      <td>sabado_12h</td>\n",
       "      <td>0.55</td>\n",
       "    </tr>\n",
       "    <tr>\n",
       "      <th>7</th>\n",
       "      <td>6667</td>\n",
       "      <td>BC</td>\n",
       "      <td>Getafe C.F.  - vs -  S.D. Eibar</td>\n",
       "      <td>domingo_12h</td>\n",
       "      <td>0.45</td>\n",
       "    </tr>\n",
       "    <tr>\n",
       "      <th>8</th>\n",
       "      <td>6667</td>\n",
       "      <td>BC</td>\n",
       "      <td>Real Zaragoza  - vs -  C.D. Leganés</td>\n",
       "      <td>viernes_20h</td>\n",
       "      <td>0.40</td>\n",
       "    </tr>\n",
       "    <tr>\n",
       "      <th>9</th>\n",
       "      <td>6667</td>\n",
       "      <td>BC</td>\n",
       "      <td>Valencia C.F.  - vs -  Real Sociedad</td>\n",
       "      <td>lunes_20h</td>\n",
       "      <td>0.40</td>\n",
       "    </tr>\n",
       "  </tbody>\n",
       "</table>\n",
       "</div>"
      ],
      "text/plain": [
       "   cat_num categoria                                  equipos          dia  \\\n",
       "0     6566        AB       Sevilla F.C.  - vs -  RCD Espanyol   sabado_20h   \n",
       "1     6567        AC  Atlético de Madrid  - vs -  S.D. Huesca  domingo_20h   \n",
       "2     6567        AC           Real Madrid  - vs -  D. Alavés  domingo_18h   \n",
       "3     6567        AC      F.C. Barcelona  - vs -  Girona F.C.   sabado_18h   \n",
       "4     6666        BB             RC Celta  - vs -  Levante UD  domingo_16h   \n",
       "5     6666        BB  C.D. Castellón  - vs -  Real Valladolid   sabado_16h   \n",
       "6     6666        BB   Real Betis B.P.  - vs -  Athletic Club   sabado_12h   \n",
       "7     6667        BC          Getafe C.F.  - vs -  S.D. Eibar  domingo_12h   \n",
       "8     6667        BC      Real Zaragoza  - vs -  C.D. Leganés  viernes_20h   \n",
       "9     6667        BC     Valencia C.F.  - vs -  Real Sociedad    lunes_20h   \n",
       "\n",
       "     cr  \n",
       "0  1.00  \n",
       "1  1.00  \n",
       "2  0.85  \n",
       "3  0.80  \n",
       "4  0.75  \n",
       "5  0.70  \n",
       "6  0.55  \n",
       "7  0.45  \n",
       "8  0.40  \n",
       "9  0.40  "
      ]
     },
     "execution_count": 22,
     "metadata": {},
     "output_type": "execute_result"
    }
   ],
   "source": [
    "partidos_ordenados"
   ]
  },
  {
   "cell_type": "markdown",
   "metadata": {},
   "source": [
    "Llegados a este punto, es necesario calcular la audiencia deseada, para ello, debemos emplear la audiencia que supuestamente genera cada combinación de partidos, centrándonos en la franja de las 20 horas del sábado, junto al coeficiente de reducción correspondiente."
   ]
  },
  {
   "cell_type": "markdown",
   "metadata": {},
   "source": [
    "> 1. Se calcula la audiencia de cada partido con su coeficiente asignado por clase<br>\n",
    "> 2. Revisamos que los resultados han sido acordes a lo esperado por sus clases (Esto depende directamente de como hayamos creado el diccionario)"
   ]
  },
  {
   "cell_type": "code",
   "execution_count": 23,
   "metadata": {},
   "outputs": [],
   "source": [
    "lista_audiencia = []# lista donde almacenaremos el calculo\n",
    "\n",
    "for i in range(len(partidos_ordenados)):# recorrer el numero de filas de partidos_ordenados\n",
    "  \n",
    "  # audiencia del partido = (cr del partido) * (audiencia de un partido de esa categoria)\n",
    "  \n",
    "  # mejor_audiencia[partidos_ordenados.iloc(axis=0)[i]['categoria']])\n",
    "  # |-> Acceder ala audiencia de la catego del partido almacenada en el dicionario\n",
    "  \n",
    "  lista_audiencia.append(partidos_ordenados.iloc(axis=0)[i]['cr'] * mejor_audiencia[partidos_ordenados.iloc(axis=0)[i]['categoria']])"
   ]
  },
  {
   "cell_type": "code",
   "execution_count": 24,
   "metadata": {},
   "outputs": [],
   "source": [
    "partidos_ordenados['audiencia']  = lista_audiencia"
   ]
  },
  {
   "cell_type": "code",
   "execution_count": 25,
   "metadata": {},
   "outputs": [
    {
     "data": {
      "text/html": [
       "<div>\n",
       "<style scoped>\n",
       "    .dataframe tbody tr th:only-of-type {\n",
       "        vertical-align: middle;\n",
       "    }\n",
       "\n",
       "    .dataframe tbody tr th {\n",
       "        vertical-align: top;\n",
       "    }\n",
       "\n",
       "    .dataframe thead th {\n",
       "        text-align: right;\n",
       "    }\n",
       "</style>\n",
       "<table border=\"1\" class=\"dataframe\">\n",
       "  <thead>\n",
       "    <tr style=\"text-align: right;\">\n",
       "      <th></th>\n",
       "      <th>cat_num</th>\n",
       "      <th>categoria</th>\n",
       "      <th>equipos</th>\n",
       "      <th>dia</th>\n",
       "      <th>cr</th>\n",
       "      <th>audiencia</th>\n",
       "    </tr>\n",
       "  </thead>\n",
       "  <tbody>\n",
       "    <tr>\n",
       "      <th>0</th>\n",
       "      <td>6566</td>\n",
       "      <td>AB</td>\n",
       "      <td>Sevilla F.C.  - vs -  RCD Espanyol</td>\n",
       "      <td>sabado_20h</td>\n",
       "      <td>1.00</td>\n",
       "      <td>1300000.0</td>\n",
       "    </tr>\n",
       "    <tr>\n",
       "      <th>1</th>\n",
       "      <td>6567</td>\n",
       "      <td>AC</td>\n",
       "      <td>Atlético de Madrid  - vs -  S.D. Huesca</td>\n",
       "      <td>domingo_20h</td>\n",
       "      <td>1.00</td>\n",
       "      <td>1000000.0</td>\n",
       "    </tr>\n",
       "    <tr>\n",
       "      <th>2</th>\n",
       "      <td>6567</td>\n",
       "      <td>AC</td>\n",
       "      <td>Real Madrid  - vs -  D. Alavés</td>\n",
       "      <td>domingo_18h</td>\n",
       "      <td>0.85</td>\n",
       "      <td>850000.0</td>\n",
       "    </tr>\n",
       "    <tr>\n",
       "      <th>3</th>\n",
       "      <td>6567</td>\n",
       "      <td>AC</td>\n",
       "      <td>F.C. Barcelona  - vs -  Girona F.C.</td>\n",
       "      <td>sabado_18h</td>\n",
       "      <td>0.80</td>\n",
       "      <td>800000.0</td>\n",
       "    </tr>\n",
       "    <tr>\n",
       "      <th>4</th>\n",
       "      <td>6666</td>\n",
       "      <td>BB</td>\n",
       "      <td>RC Celta  - vs -  Levante UD</td>\n",
       "      <td>domingo_16h</td>\n",
       "      <td>0.75</td>\n",
       "      <td>675000.0</td>\n",
       "    </tr>\n",
       "    <tr>\n",
       "      <th>5</th>\n",
       "      <td>6666</td>\n",
       "      <td>BB</td>\n",
       "      <td>C.D. Castellón  - vs -  Real Valladolid</td>\n",
       "      <td>sabado_16h</td>\n",
       "      <td>0.70</td>\n",
       "      <td>630000.0</td>\n",
       "    </tr>\n",
       "    <tr>\n",
       "      <th>6</th>\n",
       "      <td>6666</td>\n",
       "      <td>BB</td>\n",
       "      <td>Real Betis B.P.  - vs -  Athletic Club</td>\n",
       "      <td>sabado_12h</td>\n",
       "      <td>0.55</td>\n",
       "      <td>495000.0</td>\n",
       "    </tr>\n",
       "    <tr>\n",
       "      <th>7</th>\n",
       "      <td>6667</td>\n",
       "      <td>BC</td>\n",
       "      <td>Getafe C.F.  - vs -  S.D. Eibar</td>\n",
       "      <td>domingo_12h</td>\n",
       "      <td>0.45</td>\n",
       "      <td>337500.0</td>\n",
       "    </tr>\n",
       "    <tr>\n",
       "      <th>8</th>\n",
       "      <td>6667</td>\n",
       "      <td>BC</td>\n",
       "      <td>Real Zaragoza  - vs -  C.D. Leganés</td>\n",
       "      <td>viernes_20h</td>\n",
       "      <td>0.40</td>\n",
       "      <td>300000.0</td>\n",
       "    </tr>\n",
       "    <tr>\n",
       "      <th>9</th>\n",
       "      <td>6667</td>\n",
       "      <td>BC</td>\n",
       "      <td>Valencia C.F.  - vs -  Real Sociedad</td>\n",
       "      <td>lunes_20h</td>\n",
       "      <td>0.40</td>\n",
       "      <td>300000.0</td>\n",
       "    </tr>\n",
       "  </tbody>\n",
       "</table>\n",
       "</div>"
      ],
      "text/plain": [
       "   cat_num categoria                                  equipos          dia  \\\n",
       "0     6566        AB       Sevilla F.C.  - vs -  RCD Espanyol   sabado_20h   \n",
       "1     6567        AC  Atlético de Madrid  - vs -  S.D. Huesca  domingo_20h   \n",
       "2     6567        AC           Real Madrid  - vs -  D. Alavés  domingo_18h   \n",
       "3     6567        AC      F.C. Barcelona  - vs -  Girona F.C.   sabado_18h   \n",
       "4     6666        BB             RC Celta  - vs -  Levante UD  domingo_16h   \n",
       "5     6666        BB  C.D. Castellón  - vs -  Real Valladolid   sabado_16h   \n",
       "6     6666        BB   Real Betis B.P.  - vs -  Athletic Club   sabado_12h   \n",
       "7     6667        BC          Getafe C.F.  - vs -  S.D. Eibar  domingo_12h   \n",
       "8     6667        BC      Real Zaragoza  - vs -  C.D. Leganés  viernes_20h   \n",
       "9     6667        BC     Valencia C.F.  - vs -  Real Sociedad    lunes_20h   \n",
       "\n",
       "     cr  audiencia  \n",
       "0  1.00  1300000.0  \n",
       "1  1.00  1000000.0  \n",
       "2  0.85   850000.0  \n",
       "3  0.80   800000.0  \n",
       "4  0.75   675000.0  \n",
       "5  0.70   630000.0  \n",
       "6  0.55   495000.0  \n",
       "7  0.45   337500.0  \n",
       "8  0.40   300000.0  \n",
       "9  0.40   300000.0  "
      ]
     },
     "execution_count": 25,
     "metadata": {},
     "output_type": "execute_result"
    }
   ],
   "source": [
    "partidos_ordenados"
   ]
  },
  {
   "cell_type": "markdown",
   "metadata": {},
   "source": [
    "Sumamos las audiencias de cada partido para obtener la audiencia total de la jornada analizada."
   ]
  },
  {
   "cell_type": "code",
   "execution_count": 26,
   "metadata": {},
   "outputs": [
    {
     "name": "stdout",
     "output_type": "stream",
     "text": [
      "Audiencia Total de la jornada =  6687500.0\n"
     ]
    }
   ],
   "source": [
    "print(\"Audiencia Total de la jornada = \", partidos_ordenados.loc(axis=1)['audiencia'].sum())"
   ]
  },
  {
   "cell_type": "markdown",
   "metadata": {},
   "source": [
    "### Búsqueda de la mejor clasificación"
   ]
  },
  {
   "cell_type": "markdown",
   "metadata": {},
   "source": [
    "Necesitamos generar una función que sea capaz de organizar los partidos para maximizar la audiencia. Para ello, vamos a aplicar una función tipo **main**"
   ]
  },
  {
   "cell_type": "code",
   "execution_count": 27,
   "metadata": {},
   "outputs": [],
   "source": [
    "def FB_obtener_jornada_maxima_audiencia(df_jornada, cr_audiencias,mejor_audiencia,ordenar_cr = True):\n",
    "  \n",
    "  # Ordenamos los partidos en función del valor de la columna 'cat_num' \n",
    "  # (codigo ASCII) de menor a mayor, para ordenarlos de mayor a menor audiencia:\n",
    "  partidos_ordenados = ordenacion_seleccion(df_jornada,'cat_num')               #n^2\n",
    "  \n",
    "  # Ordenamos los coeficientes de reducción de audiencias de mayor a menor:\n",
    "  if ordenar_cr == True:# Si ya estan ordenados, podemos ahorrarnos realizar la ordenacion\n",
    "    cr_audiencias_ordenado = ordenacion_seleccion_mayor(cr_audiencias,'cr')     #n^2\n",
    "  \n",
    "  # Para unir dos DF's necesitamos que los indices coincidan (o almenos como \n",
    "  # los quiero unir). Por esta razon cambiamos los índices de \n",
    "  # cr_audiencias_ordenado por los de partidos_ordenados\n",
    "  cr_audiencias_ordenado.index = partidos_ordenados.index                       # C\n",
    "  \n",
    "  # Añadimos las columnas de dia, y cr para tenerlo asignado a cada partido:\n",
    "  partidos_ordenados[['dia','cr']] = cr_audiencias_ordenado                     # C\n",
    "  \n",
    "  # Calculamos la audiencia para cada partido con el cr asignado al partido, y la\n",
    "  # audiencia de un partido de esa categoria\n",
    "\n",
    "  # La audiencia de cada categoria se encuentra en un diccionario llamado \n",
    "  # mejor_audiencia, donde tiene como clave la categoria de los partidos (AA,AB,...)\n",
    "  \n",
    "  lista_audiencia = []# lista donde almacenaremos el calculo                    # C\n",
    "\n",
    "  for i in range(len(partidos_ordenados)):                                      # n\n",
    "    # recorrer el numero de filas de partidos_ordenados\n",
    "  \n",
    "    # audiencia del partido = (cr del partido) * (audiencia de un partido de esa categoria)\n",
    "  \n",
    "    # mejor_audiencia[partidos_ordenados.iloc(axis=0)[i]['categoria']])\n",
    "    # |-> Acceder ala audiencia de la catego del partido almacenada en el dicionario\n",
    "  \n",
    "    lista_audiencia.append(partidos_ordenados.iloc(axis=0)[i]['cr'] * mejor_audiencia[partidos_ordenados.iloc(axis=0)[i]['categoria']])\n",
    "  \n",
    "  # Asignamos la audiencia en una nueva columna ( de esta forma podremos consultar la audiencia de cada partido por separado):\n",
    "  partidos_ordenados['audiencia']  = lista_audiencia\n",
    "  \n",
    "  return partidos_ordenados"
   ]
  },
  {
   "cell_type": "markdown",
   "metadata": {
    "id": "HZz52wOppp-U"
   },
   "source": [
    "### Análisis\n",
    "- ¿Que complejidad tiene el problema?. Orden de complejidad y Contabilizar el espacio de soluciones"
   ]
  },
  {
   "cell_type": "markdown",
   "metadata": {
    "id": "CZ-5BmpspttV"
   },
   "source": [
    "La complejidad  de *FB_obtener_jornada_maxima_audiencia()* es del tipo **O(n²)**, donde n es el número de partidos (en este caso 10) :\r\n",
    "\r\n",
    "-  O(n²) --> Ordenar los partidos de mayor a menor audiencia\r\n",
    "-  O(n²) --> Ordenar los coeficientes de reducción de audiencia de mayor a menor \r\n",
    "-  C (Cosntantes. Resto de asignaciones)  --> Nuevas columnas, cambio de indice, ...\r\n",
    "-  n --> Bucle for\r\n",
    "\r\n",
    "**TOTAL = (n²)**\n"
   ]
  },
  {
   "cell_type": "markdown",
   "metadata": {},
   "source": [
    "Sin embargo, mientras avancemos (como veremos en apartados siguientes) el tipo varía a mayor complejidad."
   ]
  },
  {
   "cell_type": "markdown",
   "metadata": {},
   "source": [
    "Una vez hagamos uso del algoritmo quick sort, este aumenta su complejidad, quedando de la siguiente manera."
   ]
  },
  {
   "cell_type": "markdown",
   "metadata": {},
   "source": [
    "La complejidad  de *obtener_jornada_maxima_audiencia()* es del tipo **O(n·log(n))**, donde n es el número de partidos (en este caso 10) :\r\n",
    "\r\n",
    "-  O(n·log(n)) --> Ordenar los partidos de mayor a menor audiencia\r\n",
    "-  O(n·log(n)) --> Ordenar los coeficientes de reducción de audiencia de mayor a menor \r\n",
    "-  C (Cosntantes. Resto de asignaciones)  --> Nuevas columnas, cambio de indice, ...\r\n",
    "-  n --> Bucle for\r\n",
    "\r\n",
    "**TOTAL = O(n·log(n))**"
   ]
  },
  {
   "cell_type": "markdown",
   "metadata": {},
   "source": [
    "En caso de que tuvieramos que realizar la lista sobre la totalidad de la liga, solo sería necesario ordenar los coeficientes dereducción de audiencia, ya que de no hacerlo, la complejidad pasaría a ser 2 n·log(n)"
   ]
  },
  {
   "cell_type": "markdown",
   "metadata": {},
   "source": [
    "La complejidad  de *simular_jornada())* es del tipo **O(n·log(n))**, donde n es el número de partidos (en este caso 10) :\r\n",
    "\r\n",
    "-   O(n) --> *crear_jornada_aleatoria()*. Es dificil de saber que hace esa función así que nos ponemos en el peor caso\r\n",
    "-  O(n) = n/2 +C --> *crear_DF_jornada()*\r\n",
    "-  O(n·log(n)) --> *obtener_jornada_maxima_audiencia()* \r\n",
    "\r\n",
    "\r\n",
    "**TOTAL = O(n·log(n))**"
   ]
  },
  {
   "cell_type": "markdown",
   "metadata": {
    "id": "ixEJUwH_pv7M"
   },
   "source": [
    "### Diseño\n",
    "- ¿Que técnica utilizo? ¿Por qué?"
   ]
  },
  {
   "cell_type": "markdown",
   "metadata": {
    "id": "ZdKPjB9gp2BA"
   },
   "source": [
    "#### Ordenar los partidos de mayor a menor audiencia mediante **quick sort**"
   ]
  },
  {
   "cell_type": "markdown",
   "metadata": {},
   "source": [
    "Seguimos trabajando con la estructura creada en el Data Frame de Pandas."
   ]
  },
  {
   "cell_type": "markdown",
   "metadata": {},
   "source": [
    "Con los datos de la jornada ya estructurados, se hace necesario ordenar los datos en base a la columna de categoría (cat_num), y así, implementar el algoritmo quick sort para ordenar las filas en función de los datos contenidos en la columna."
   ]
  },
  {
   "cell_type": "code",
   "execution_count": 28,
   "metadata": {},
   "outputs": [],
   "source": [
    "def quick_sort_liga(df, col_ordenar):\n",
    "    if len(df) == 1: \n",
    "        return df\n",
    "  \n",
    "    elif len(df) == 2:\n",
    "        if df.iloc[0][col_ordenar] < df.iloc[1][col_ordenar]:\n",
    "            return df\n",
    "        else:\n",
    "            return pd.DataFrame([df.iloc[1], df.iloc[0]])\n",
    "    \n",
    "    else: \n",
    "        izq = pd.DataFrame(columns=df.columns) \n",
    "        der = pd.DataFrame(columns=df.columns) \n",
    "    \n",
    "        suma = df[col_ordenar].sum()\n",
    "        pivote = suma / len(df)\n",
    "    \n",
    "        for i in range(len(df)):\n",
    "            if df.iloc[i][col_ordenar] <= pivote:\n",
    "                izq = pd.concat([izq, df.iloc[i:i+1]])  # Concatenar el DataFrame a izq\n",
    "            else:\n",
    "                der = pd.concat([der, df.iloc[i:i+1]])  # Concatenar el DataFrame a der\n",
    "        \n",
    "        if len(izq) > 0 and len(der) > 0:\n",
    "            df_I = quick_sort_liga(izq, col_ordenar)                                   \n",
    "            df_D = quick_sort_liga(der, col_ordenar)\n",
    "            return pd.concat([df_I, df_D])\n",
    "        else:\n",
    "            return df"
   ]
  },
  {
   "cell_type": "code",
   "execution_count": 29,
   "metadata": {},
   "outputs": [],
   "source": [
    "partidos_ordenados = quick_sort_liga(df_jornada,'cat_num')"
   ]
  },
  {
   "cell_type": "code",
   "execution_count": 30,
   "metadata": {},
   "outputs": [
    {
     "data": {
      "text/html": [
       "<div>\n",
       "<style scoped>\n",
       "    .dataframe tbody tr th:only-of-type {\n",
       "        vertical-align: middle;\n",
       "    }\n",
       "\n",
       "    .dataframe tbody tr th {\n",
       "        vertical-align: top;\n",
       "    }\n",
       "\n",
       "    .dataframe thead th {\n",
       "        text-align: right;\n",
       "    }\n",
       "</style>\n",
       "<table border=\"1\" class=\"dataframe\">\n",
       "  <thead>\n",
       "    <tr style=\"text-align: right;\">\n",
       "      <th></th>\n",
       "      <th>cat_num</th>\n",
       "      <th>categoria</th>\n",
       "      <th>equipos</th>\n",
       "    </tr>\n",
       "  </thead>\n",
       "  <tbody>\n",
       "    <tr>\n",
       "      <th>2</th>\n",
       "      <td>6566</td>\n",
       "      <td>AB</td>\n",
       "      <td>Sevilla F.C.  - vs -  RCD Espanyol</td>\n",
       "    </tr>\n",
       "    <tr>\n",
       "      <th>0</th>\n",
       "      <td>6567</td>\n",
       "      <td>AC</td>\n",
       "      <td>Real Madrid  - vs -  D. Alavés</td>\n",
       "    </tr>\n",
       "    <tr>\n",
       "      <th>1</th>\n",
       "      <td>6567</td>\n",
       "      <td>AC</td>\n",
       "      <td>Atlético de Madrid  - vs -  S.D. Huesca</td>\n",
       "    </tr>\n",
       "    <tr>\n",
       "      <th>6</th>\n",
       "      <td>6567</td>\n",
       "      <td>AC</td>\n",
       "      <td>F.C. Barcelona  - vs -  Girona F.C.</td>\n",
       "    </tr>\n",
       "    <tr>\n",
       "      <th>4</th>\n",
       "      <td>6666</td>\n",
       "      <td>BB</td>\n",
       "      <td>RC Celta  - vs -  Levante UD</td>\n",
       "    </tr>\n",
       "    <tr>\n",
       "      <th>5</th>\n",
       "      <td>6666</td>\n",
       "      <td>BB</td>\n",
       "      <td>C.D. Castellón  - vs -  Real Valladolid</td>\n",
       "    </tr>\n",
       "    <tr>\n",
       "      <th>8</th>\n",
       "      <td>6666</td>\n",
       "      <td>BB</td>\n",
       "      <td>Real Betis B.P.  - vs -  Athletic Club</td>\n",
       "    </tr>\n",
       "    <tr>\n",
       "      <th>3</th>\n",
       "      <td>6667</td>\n",
       "      <td>BC</td>\n",
       "      <td>Real Zaragoza  - vs -  C.D. Leganés</td>\n",
       "    </tr>\n",
       "    <tr>\n",
       "      <th>7</th>\n",
       "      <td>6667</td>\n",
       "      <td>BC</td>\n",
       "      <td>Getafe C.F.  - vs -  S.D. Eibar</td>\n",
       "    </tr>\n",
       "    <tr>\n",
       "      <th>9</th>\n",
       "      <td>6667</td>\n",
       "      <td>BC</td>\n",
       "      <td>Valencia C.F.  - vs -  Real Sociedad</td>\n",
       "    </tr>\n",
       "  </tbody>\n",
       "</table>\n",
       "</div>"
      ],
      "text/plain": [
       "  cat_num categoria                                  equipos\n",
       "2    6566        AB       Sevilla F.C.  - vs -  RCD Espanyol\n",
       "0    6567        AC           Real Madrid  - vs -  D. Alavés\n",
       "1    6567        AC  Atlético de Madrid  - vs -  S.D. Huesca\n",
       "6    6567        AC      F.C. Barcelona  - vs -  Girona F.C.\n",
       "4    6666        BB             RC Celta  - vs -  Levante UD\n",
       "5    6666        BB  C.D. Castellón  - vs -  Real Valladolid\n",
       "8    6666        BB   Real Betis B.P.  - vs -  Athletic Club\n",
       "3    6667        BC      Real Zaragoza  - vs -  C.D. Leganés\n",
       "7    6667        BC          Getafe C.F.  - vs -  S.D. Eibar\n",
       "9    6667        BC     Valencia C.F.  - vs -  Real Sociedad"
      ]
     },
     "execution_count": 30,
     "metadata": {},
     "output_type": "execute_result"
    }
   ],
   "source": [
    "partidos_ordenados"
   ]
  },
  {
   "cell_type": "markdown",
   "metadata": {},
   "source": [
    "#### Ordenador los coeficientes de audiencia de mayor a menor mediante **quick sort**"
   ]
  },
  {
   "cell_type": "markdown",
   "metadata": {},
   "source": [
    "Es necesairo invertir los signos respecto al anterior quick sort"
   ]
  },
  {
   "cell_type": "code",
   "execution_count": 31,
   "metadata": {},
   "outputs": [],
   "source": [
    " def quick_sort_liga_mayor(df, col_ordenar):  \n",
    "    if len(df) == 1: \n",
    "        return df\n",
    "  \n",
    "    elif len(df) == 2:\n",
    "        if df.iloc[0][col_ordenar] > df.iloc[1][col_ordenar]: \n",
    "            return df\n",
    "        else:\n",
    "            return pd.DataFrame([df.iloc[1], df.iloc[0]])\n",
    "    \n",
    "    else: \n",
    "        izq = pd.DataFrame(columns=df.columns) \n",
    "        der = pd.DataFrame(columns=df.columns) \n",
    "    \n",
    "        suma = df[col_ordenar].sum()\n",
    "        pivote = suma / len(df)\n",
    "    \n",
    "        for i in range(len(df)):\n",
    "            if df.iloc[i][col_ordenar] >= pivote:\n",
    "                izq = pd.concat([izq, df.iloc[i:i+1]])  # Concatenar el DataFrame a izquierda\n",
    "        \n",
    "            else: \n",
    "                der = pd.concat([der, df.iloc[i:i+1]])  # Concatenar el DataFrame a derecha\n",
    "        \n",
    "        if len(izq) > 0 and len(der) > 0: \n",
    "            df_I = quick_sort_liga_mayor(izq, col_ordenar)\n",
    "            df_D = quick_sort_liga_mayor(der, col_ordenar)\n",
    "            return pd.concat([df_I, df_D])\n",
    "        else:\n",
    "            return df"
   ]
  },
  {
   "cell_type": "code",
   "execution_count": 32,
   "metadata": {
    "scrolled": true
   },
   "outputs": [
    {
     "name": "stderr",
     "output_type": "stream",
     "text": [
      "C:\\Users\\user\\AppData\\Local\\Temp\\ipykernel_79884\\3298588289.py:23: FutureWarning: The behavior of DataFrame concatenation with empty or all-NA entries is deprecated. In a future version, this will no longer exclude empty or all-NA columns when determining the result dtypes. To retain the old behavior, exclude the relevant entries before the concat operation.\n",
      "  der = pd.concat([der, df.iloc[i:i+1]])  # Concatenar el DataFrame a derecha\n",
      "C:\\Users\\user\\AppData\\Local\\Temp\\ipykernel_79884\\3298588289.py:20: FutureWarning: The behavior of DataFrame concatenation with empty or all-NA entries is deprecated. In a future version, this will no longer exclude empty or all-NA columns when determining the result dtypes. To retain the old behavior, exclude the relevant entries before the concat operation.\n",
      "  izq = pd.concat([izq, df.iloc[i:i+1]])  # Concatenar el DataFrame a izquierda\n",
      "C:\\Users\\user\\AppData\\Local\\Temp\\ipykernel_79884\\3298588289.py:23: FutureWarning: The behavior of DataFrame concatenation with empty or all-NA entries is deprecated. In a future version, this will no longer exclude empty or all-NA columns when determining the result dtypes. To retain the old behavior, exclude the relevant entries before the concat operation.\n",
      "  der = pd.concat([der, df.iloc[i:i+1]])  # Concatenar el DataFrame a derecha\n",
      "C:\\Users\\user\\AppData\\Local\\Temp\\ipykernel_79884\\3298588289.py:20: FutureWarning: The behavior of DataFrame concatenation with empty or all-NA entries is deprecated. In a future version, this will no longer exclude empty or all-NA columns when determining the result dtypes. To retain the old behavior, exclude the relevant entries before the concat operation.\n",
      "  izq = pd.concat([izq, df.iloc[i:i+1]])  # Concatenar el DataFrame a izquierda\n",
      "C:\\Users\\user\\AppData\\Local\\Temp\\ipykernel_79884\\3298588289.py:20: FutureWarning: The behavior of DataFrame concatenation with empty or all-NA entries is deprecated. In a future version, this will no longer exclude empty or all-NA columns when determining the result dtypes. To retain the old behavior, exclude the relevant entries before the concat operation.\n",
      "  izq = pd.concat([izq, df.iloc[i:i+1]])  # Concatenar el DataFrame a izquierda\n",
      "C:\\Users\\user\\AppData\\Local\\Temp\\ipykernel_79884\\3298588289.py:23: FutureWarning: The behavior of DataFrame concatenation with empty or all-NA entries is deprecated. In a future version, this will no longer exclude empty or all-NA columns when determining the result dtypes. To retain the old behavior, exclude the relevant entries before the concat operation.\n",
      "  der = pd.concat([der, df.iloc[i:i+1]])  # Concatenar el DataFrame a derecha\n",
      "C:\\Users\\user\\AppData\\Local\\Temp\\ipykernel_79884\\3298588289.py:23: FutureWarning: The behavior of DataFrame concatenation with empty or all-NA entries is deprecated. In a future version, this will no longer exclude empty or all-NA columns when determining the result dtypes. To retain the old behavior, exclude the relevant entries before the concat operation.\n",
      "  der = pd.concat([der, df.iloc[i:i+1]])  # Concatenar el DataFrame a derecha\n",
      "C:\\Users\\user\\AppData\\Local\\Temp\\ipykernel_79884\\3298588289.py:20: FutureWarning: The behavior of DataFrame concatenation with empty or all-NA entries is deprecated. In a future version, this will no longer exclude empty or all-NA columns when determining the result dtypes. To retain the old behavior, exclude the relevant entries before the concat operation.\n",
      "  izq = pd.concat([izq, df.iloc[i:i+1]])  # Concatenar el DataFrame a izquierda\n",
      "C:\\Users\\user\\AppData\\Local\\Temp\\ipykernel_79884\\3298588289.py:23: FutureWarning: The behavior of DataFrame concatenation with empty or all-NA entries is deprecated. In a future version, this will no longer exclude empty or all-NA columns when determining the result dtypes. To retain the old behavior, exclude the relevant entries before the concat operation.\n",
      "  der = pd.concat([der, df.iloc[i:i+1]])  # Concatenar el DataFrame a derecha\n",
      "C:\\Users\\user\\AppData\\Local\\Temp\\ipykernel_79884\\3298588289.py:20: FutureWarning: The behavior of DataFrame concatenation with empty or all-NA entries is deprecated. In a future version, this will no longer exclude empty or all-NA columns when determining the result dtypes. To retain the old behavior, exclude the relevant entries before the concat operation.\n",
      "  izq = pd.concat([izq, df.iloc[i:i+1]])  # Concatenar el DataFrame a izquierda\n",
      "C:\\Users\\user\\AppData\\Local\\Temp\\ipykernel_79884\\3298588289.py:23: FutureWarning: The behavior of DataFrame concatenation with empty or all-NA entries is deprecated. In a future version, this will no longer exclude empty or all-NA columns when determining the result dtypes. To retain the old behavior, exclude the relevant entries before the concat operation.\n",
      "  der = pd.concat([der, df.iloc[i:i+1]])  # Concatenar el DataFrame a derecha\n",
      "C:\\Users\\user\\AppData\\Local\\Temp\\ipykernel_79884\\3298588289.py:20: FutureWarning: The behavior of DataFrame concatenation with empty or all-NA entries is deprecated. In a future version, this will no longer exclude empty or all-NA columns when determining the result dtypes. To retain the old behavior, exclude the relevant entries before the concat operation.\n",
      "  izq = pd.concat([izq, df.iloc[i:i+1]])  # Concatenar el DataFrame a izquierda\n"
     ]
    }
   ],
   "source": [
    "cr_audiencias_ordenado = quick_sort_liga_mayor(cr_audiencias,'cr')"
   ]
  },
  {
   "cell_type": "code",
   "execution_count": 33,
   "metadata": {},
   "outputs": [
    {
     "data": {
      "text/html": [
       "<div>\n",
       "<style scoped>\n",
       "    .dataframe tbody tr th:only-of-type {\n",
       "        vertical-align: middle;\n",
       "    }\n",
       "\n",
       "    .dataframe tbody tr th {\n",
       "        vertical-align: top;\n",
       "    }\n",
       "\n",
       "    .dataframe thead th {\n",
       "        text-align: right;\n",
       "    }\n",
       "</style>\n",
       "<table border=\"1\" class=\"dataframe\">\n",
       "  <thead>\n",
       "    <tr style=\"text-align: right;\">\n",
       "      <th></th>\n",
       "      <th>dia</th>\n",
       "      <th>cr</th>\n",
       "    </tr>\n",
       "  </thead>\n",
       "  <tbody>\n",
       "    <tr>\n",
       "      <th>8</th>\n",
       "      <td>domingo_20h</td>\n",
       "      <td>1.00</td>\n",
       "    </tr>\n",
       "    <tr>\n",
       "      <th>4</th>\n",
       "      <td>sabado_20h</td>\n",
       "      <td>1.00</td>\n",
       "    </tr>\n",
       "    <tr>\n",
       "      <th>7</th>\n",
       "      <td>domingo_18h</td>\n",
       "      <td>0.85</td>\n",
       "    </tr>\n",
       "    <tr>\n",
       "      <th>3</th>\n",
       "      <td>sabado_18h</td>\n",
       "      <td>0.80</td>\n",
       "    </tr>\n",
       "    <tr>\n",
       "      <th>6</th>\n",
       "      <td>domingo_16h</td>\n",
       "      <td>0.75</td>\n",
       "    </tr>\n",
       "    <tr>\n",
       "      <th>2</th>\n",
       "      <td>sabado_16h</td>\n",
       "      <td>0.70</td>\n",
       "    </tr>\n",
       "    <tr>\n",
       "      <th>1</th>\n",
       "      <td>sabado_12h</td>\n",
       "      <td>0.55</td>\n",
       "    </tr>\n",
       "    <tr>\n",
       "      <th>5</th>\n",
       "      <td>domingo_12h</td>\n",
       "      <td>0.45</td>\n",
       "    </tr>\n",
       "    <tr>\n",
       "      <th>9</th>\n",
       "      <td>lunes_20h</td>\n",
       "      <td>0.40</td>\n",
       "    </tr>\n",
       "    <tr>\n",
       "      <th>0</th>\n",
       "      <td>viernes_20h</td>\n",
       "      <td>0.40</td>\n",
       "    </tr>\n",
       "  </tbody>\n",
       "</table>\n",
       "</div>"
      ],
      "text/plain": [
       "           dia    cr\n",
       "8  domingo_20h  1.00\n",
       "4   sabado_20h  1.00\n",
       "7  domingo_18h  0.85\n",
       "3   sabado_18h  0.80\n",
       "6  domingo_16h  0.75\n",
       "2   sabado_16h  0.70\n",
       "1   sabado_12h  0.55\n",
       "5  domingo_12h  0.45\n",
       "9    lunes_20h  0.40\n",
       "0  viernes_20h  0.40"
      ]
     },
     "execution_count": 33,
     "metadata": {},
     "output_type": "execute_result"
    }
   ],
   "source": [
    "cr_audiencias_ordenado"
   ]
  },
  {
   "cell_type": "markdown",
   "metadata": {},
   "source": [
    "#### Creación de una función para mejorar la organicación de los partidos"
   ]
  },
  {
   "cell_type": "markdown",
   "metadata": {},
   "source": [
    "Siguiendoel mismo algoritmo de fuerza bruta, ordenamos mediante el algoritmo quick sort."
   ]
  },
  {
   "cell_type": "code",
   "execution_count": 34,
   "metadata": {},
   "outputs": [],
   "source": [
    "def obtener_jornada_maxima_audiencia(df_jornada, cr_audiencias, mejor_audiencia, ordenar_cr=True):\n",
    "    # Ordenamos los partidos en función del valor de la columna 'cat_num' (código ASCII) de menor a mayor,\n",
    "    # para ordenarlos de mayor a menor audiencia.\n",
    "    partidos_ordenados = quick_sort_liga(df_jornada, 'cat_num')\n",
    "\n",
    "    # Si ordenar_cr es True, ordenamos los coeficientes de reducción de audiencias de mayor a menor.\n",
    "    if ordenar_cr:\n",
    "        cr_audiencias_ordenado = quick_sort_liga_mayor(cr_audiencias, 'cr')\n",
    "    else:\n",
    "        cr_audiencias_ordenado = cr_audiencias\n",
    "\n",
    "    # Cambiamos los índices de cr_audiencias_ordenado por los de partidos_ordenados.\n",
    "    cr_audiencias_ordenado.index = partidos_ordenados.index\n",
    "\n",
    "    # Añadimos las columnas de 'dia' y 'cr' para tenerlo asignado a cada partido.\n",
    "    partidos_ordenados[['dia', 'cr']] = cr_audiencias_ordenado\n",
    "\n",
    "    # Calculamos la audiencia para cada partido con el cr asignado al partido y la audiencia de un partido de esa categoría.\n",
    "    lista_audiencia = []\n",
    "\n",
    "    for i in range(len(partidos_ordenados)):\n",
    "        # Audiencia del partido = (cr del partido) * (audiencia de un partido de esa categoría)\n",
    "        audiencia = partidos_ordenados.iloc[i]['cr'] * mejor_audiencia[partidos_ordenados.iloc[i]['categoria']]\n",
    "        lista_audiencia.append(audiencia)\n",
    "\n",
    "    # Asignamos la audiencia en una nueva columna.\n",
    "    partidos_ordenados['audiencia'] = lista_audiencia\n",
    "\n",
    "    return partidos_ordenados"
   ]
  },
  {
   "cell_type": "code",
   "execution_count": 35,
   "metadata": {},
   "outputs": [],
   "source": [
    "def simular_jornada(equipos_liga, cr_audiencias,mejor_audiencia,ordenar_cr = True):\n",
    "  # Obtener jornada aleatoria a partir de los equipos del torneo\n",
    "  jornada_aleatoria = crear_jornada_aleatoria(equipos_liga)# Obtener jornada aleatoria\n",
    "  \n",
    "  # obtener un DF con los partidos de forma legible (Formato de nuestra funcion)\n",
    "  df_jornada = crear_DF_jornada(jornada_aleatoria)                              # O(n)\n",
    "  \n",
    "  return obtener_jornada_maxima_audiencia(df_jornada, cr_audiencias,mejor_audiencia,ordenar_cr = True)# O(n·log(n))"
   ]
  },
  {
   "cell_type": "markdown",
   "metadata": {},
   "source": [
    "### Jornada de máxima audiencia"
   ]
  },
  {
   "cell_type": "code",
   "execution_count": 36,
   "metadata": {},
   "outputs": [
    {
     "name": "stdout",
     "output_type": "stream",
     "text": [
      "Index(['cat_num', 'categoria', 'equipos'], dtype='object')\n"
     ]
    }
   ],
   "source": [
    "#Visualizamos las columnas disponibles\n",
    "print(df_jornada.columns)"
   ]
  },
  {
   "cell_type": "code",
   "execution_count": 37,
   "metadata": {},
   "outputs": [],
   "source": [
    "def obtener_jornada_maxima_audiencia(df_jornada, cr_audiencias, mejor_audiencia, ordenar_cr=True, col_ordenar=None):\n",
    "    if col_ordenar is not None:\n",
    "        # Ordenar el DataFrame por la columna especificada\n",
    "        partidos_ordenados = quick_sort_liga(df_jornada, col_ordenar)\n",
    "    else:\n",
    "        # Si no se especifica una columna de ordenación, ordenar por 'cat_num' por defecto\n",
    "        partidos_ordenados = quick_sort_liga(df_jornada, 'cat_num')\n",
    "\n",
    "    # Ordenamos los coeficientes de reducción de audiencias de mayor a menor si ordenar_cr es True\n",
    "    if ordenar_cr:\n",
    "        cr_audiencias_ordenado = quick_sort_liga_mayor(cr_audiencias, 'cr')\n",
    "    else:\n",
    "        cr_audiencias_ordenado = cr_audiencias\n",
    "\n",
    "    # Cambiamos los índices de cr_audiencias_ordenado por los de partidos_ordenados.\n",
    "    cr_audiencias_ordenado.index = partidos_ordenados.index\n",
    "\n",
    "    # Añadimos las columnas de 'dia' y 'cr' para tenerlo asignado a cada partido.\n",
    "    partidos_ordenados[['dia', 'cr']] = cr_audiencias_ordenado\n",
    "\n",
    "    # Calculamos la audiencia para cada partido con el cr asignado al partido y la audiencia de un partido de esa categoría.\n",
    "    lista_audiencia = []\n",
    "\n",
    "    for i in range(len(partidos_ordenados)):\n",
    "        # Audiencia del partido = (cr del partido) * (audiencia de un partido de esa categoría)\n",
    "        audiencia = partidos_ordenados.iloc[i]['cr'] * mejor_audiencia[partidos_ordenados.iloc[i]['categoria']]\n",
    "        lista_audiencia.append(audiencia)\n",
    "\n",
    "    # Asignamos la audiencia en una nueva columna.\n",
    "    partidos_ordenados['audiencia'] = lista_audiencia\n",
    "\n",
    "    return partidos_ordenados"
   ]
  },
  {
   "cell_type": "code",
   "execution_count": 38,
   "metadata": {
    "scrolled": true
   },
   "outputs": [
    {
     "name": "stderr",
     "output_type": "stream",
     "text": [
      "C:\\Users\\user\\AppData\\Local\\Temp\\ipykernel_79884\\3298588289.py:23: FutureWarning: The behavior of DataFrame concatenation with empty or all-NA entries is deprecated. In a future version, this will no longer exclude empty or all-NA columns when determining the result dtypes. To retain the old behavior, exclude the relevant entries before the concat operation.\n",
      "  der = pd.concat([der, df.iloc[i:i+1]])  # Concatenar el DataFrame a derecha\n",
      "C:\\Users\\user\\AppData\\Local\\Temp\\ipykernel_79884\\3298588289.py:20: FutureWarning: The behavior of DataFrame concatenation with empty or all-NA entries is deprecated. In a future version, this will no longer exclude empty or all-NA columns when determining the result dtypes. To retain the old behavior, exclude the relevant entries before the concat operation.\n",
      "  izq = pd.concat([izq, df.iloc[i:i+1]])  # Concatenar el DataFrame a izquierda\n",
      "C:\\Users\\user\\AppData\\Local\\Temp\\ipykernel_79884\\3298588289.py:23: FutureWarning: The behavior of DataFrame concatenation with empty or all-NA entries is deprecated. In a future version, this will no longer exclude empty or all-NA columns when determining the result dtypes. To retain the old behavior, exclude the relevant entries before the concat operation.\n",
      "  der = pd.concat([der, df.iloc[i:i+1]])  # Concatenar el DataFrame a derecha\n",
      "C:\\Users\\user\\AppData\\Local\\Temp\\ipykernel_79884\\3298588289.py:20: FutureWarning: The behavior of DataFrame concatenation with empty or all-NA entries is deprecated. In a future version, this will no longer exclude empty or all-NA columns when determining the result dtypes. To retain the old behavior, exclude the relevant entries before the concat operation.\n",
      "  izq = pd.concat([izq, df.iloc[i:i+1]])  # Concatenar el DataFrame a izquierda\n",
      "C:\\Users\\user\\AppData\\Local\\Temp\\ipykernel_79884\\3298588289.py:20: FutureWarning: The behavior of DataFrame concatenation with empty or all-NA entries is deprecated. In a future version, this will no longer exclude empty or all-NA columns when determining the result dtypes. To retain the old behavior, exclude the relevant entries before the concat operation.\n",
      "  izq = pd.concat([izq, df.iloc[i:i+1]])  # Concatenar el DataFrame a izquierda\n",
      "C:\\Users\\user\\AppData\\Local\\Temp\\ipykernel_79884\\3298588289.py:23: FutureWarning: The behavior of DataFrame concatenation with empty or all-NA entries is deprecated. In a future version, this will no longer exclude empty or all-NA columns when determining the result dtypes. To retain the old behavior, exclude the relevant entries before the concat operation.\n",
      "  der = pd.concat([der, df.iloc[i:i+1]])  # Concatenar el DataFrame a derecha\n",
      "C:\\Users\\user\\AppData\\Local\\Temp\\ipykernel_79884\\3298588289.py:23: FutureWarning: The behavior of DataFrame concatenation with empty or all-NA entries is deprecated. In a future version, this will no longer exclude empty or all-NA columns when determining the result dtypes. To retain the old behavior, exclude the relevant entries before the concat operation.\n",
      "  der = pd.concat([der, df.iloc[i:i+1]])  # Concatenar el DataFrame a derecha\n",
      "C:\\Users\\user\\AppData\\Local\\Temp\\ipykernel_79884\\3298588289.py:20: FutureWarning: The behavior of DataFrame concatenation with empty or all-NA entries is deprecated. In a future version, this will no longer exclude empty or all-NA columns when determining the result dtypes. To retain the old behavior, exclude the relevant entries before the concat operation.\n",
      "  izq = pd.concat([izq, df.iloc[i:i+1]])  # Concatenar el DataFrame a izquierda\n",
      "C:\\Users\\user\\AppData\\Local\\Temp\\ipykernel_79884\\3298588289.py:23: FutureWarning: The behavior of DataFrame concatenation with empty or all-NA entries is deprecated. In a future version, this will no longer exclude empty or all-NA columns when determining the result dtypes. To retain the old behavior, exclude the relevant entries before the concat operation.\n",
      "  der = pd.concat([der, df.iloc[i:i+1]])  # Concatenar el DataFrame a derecha\n",
      "C:\\Users\\user\\AppData\\Local\\Temp\\ipykernel_79884\\3298588289.py:20: FutureWarning: The behavior of DataFrame concatenation with empty or all-NA entries is deprecated. In a future version, this will no longer exclude empty or all-NA columns when determining the result dtypes. To retain the old behavior, exclude the relevant entries before the concat operation.\n",
      "  izq = pd.concat([izq, df.iloc[i:i+1]])  # Concatenar el DataFrame a izquierda\n",
      "C:\\Users\\user\\AppData\\Local\\Temp\\ipykernel_79884\\3298588289.py:23: FutureWarning: The behavior of DataFrame concatenation with empty or all-NA entries is deprecated. In a future version, this will no longer exclude empty or all-NA columns when determining the result dtypes. To retain the old behavior, exclude the relevant entries before the concat operation.\n",
      "  der = pd.concat([der, df.iloc[i:i+1]])  # Concatenar el DataFrame a derecha\n",
      "C:\\Users\\user\\AppData\\Local\\Temp\\ipykernel_79884\\3298588289.py:20: FutureWarning: The behavior of DataFrame concatenation with empty or all-NA entries is deprecated. In a future version, this will no longer exclude empty or all-NA columns when determining the result dtypes. To retain the old behavior, exclude the relevant entries before the concat operation.\n",
      "  izq = pd.concat([izq, df.iloc[i:i+1]])  # Concatenar el DataFrame a izquierda\n"
     ]
    }
   ],
   "source": [
    "jornada_maxima_audiencia = simular_jornada(equipos_liga, cr_audiencias, mejor_audiencia)"
   ]
  },
  {
   "cell_type": "code",
   "execution_count": 39,
   "metadata": {},
   "outputs": [
    {
     "data": {
      "text/html": [
       "<div>\n",
       "<style scoped>\n",
       "    .dataframe tbody tr th:only-of-type {\n",
       "        vertical-align: middle;\n",
       "    }\n",
       "\n",
       "    .dataframe tbody tr th {\n",
       "        vertical-align: top;\n",
       "    }\n",
       "\n",
       "    .dataframe thead th {\n",
       "        text-align: right;\n",
       "    }\n",
       "</style>\n",
       "<table border=\"1\" class=\"dataframe\">\n",
       "  <thead>\n",
       "    <tr style=\"text-align: right;\">\n",
       "      <th></th>\n",
       "      <th>cat_num</th>\n",
       "      <th>categoria</th>\n",
       "      <th>equipos</th>\n",
       "      <th>dia</th>\n",
       "      <th>cr</th>\n",
       "      <th>audiencia</th>\n",
       "    </tr>\n",
       "  </thead>\n",
       "  <tbody>\n",
       "    <tr>\n",
       "      <th>3</th>\n",
       "      <td>6565</td>\n",
       "      <td>AA</td>\n",
       "      <td>F.C. Barcelona  - vs -  Atlético de Madrid</td>\n",
       "      <td>domingo_20h</td>\n",
       "      <td>1.00</td>\n",
       "      <td>2000000.0</td>\n",
       "    </tr>\n",
       "    <tr>\n",
       "      <th>0</th>\n",
       "      <td>6566</td>\n",
       "      <td>AB</td>\n",
       "      <td>Sevilla F.C.  - vs -  Athletic Club</td>\n",
       "      <td>sabado_20h</td>\n",
       "      <td>1.00</td>\n",
       "      <td>1300000.0</td>\n",
       "    </tr>\n",
       "    <tr>\n",
       "      <th>4</th>\n",
       "      <td>6567</td>\n",
       "      <td>AC</td>\n",
       "      <td>Real Madrid  - vs -  Girona F.C.</td>\n",
       "      <td>domingo_18h</td>\n",
       "      <td>0.85</td>\n",
       "      <td>850000.0</td>\n",
       "    </tr>\n",
       "    <tr>\n",
       "      <th>6</th>\n",
       "      <td>6666</td>\n",
       "      <td>BB</td>\n",
       "      <td>RCD Espanyol  - vs -  Valencia C.F.</td>\n",
       "      <td>sabado_18h</td>\n",
       "      <td>0.80</td>\n",
       "      <td>720000.0</td>\n",
       "    </tr>\n",
       "    <tr>\n",
       "      <th>1</th>\n",
       "      <td>6666</td>\n",
       "      <td>BB</td>\n",
       "      <td>RC Celta  - vs -  Getafe C.F.</td>\n",
       "      <td>domingo_16h</td>\n",
       "      <td>0.75</td>\n",
       "      <td>675000.0</td>\n",
       "    </tr>\n",
       "    <tr>\n",
       "      <th>2</th>\n",
       "      <td>6667</td>\n",
       "      <td>BC</td>\n",
       "      <td>Real Betis B.P.  - vs -  C.D. Leganés</td>\n",
       "      <td>sabado_16h</td>\n",
       "      <td>0.70</td>\n",
       "      <td>525000.0</td>\n",
       "    </tr>\n",
       "    <tr>\n",
       "      <th>5</th>\n",
       "      <td>6667</td>\n",
       "      <td>BC</td>\n",
       "      <td>Levante UD  - vs -  Real Sociedad</td>\n",
       "      <td>sabado_12h</td>\n",
       "      <td>0.55</td>\n",
       "      <td>412500.0</td>\n",
       "    </tr>\n",
       "    <tr>\n",
       "      <th>7</th>\n",
       "      <td>6667</td>\n",
       "      <td>BC</td>\n",
       "      <td>Real Zaragoza  - vs -  S.D. Huesca</td>\n",
       "      <td>domingo_12h</td>\n",
       "      <td>0.45</td>\n",
       "      <td>337500.0</td>\n",
       "    </tr>\n",
       "    <tr>\n",
       "      <th>8</th>\n",
       "      <td>6667</td>\n",
       "      <td>BC</td>\n",
       "      <td>C.D. Castellón  - vs -  S.D. Eibar</td>\n",
       "      <td>lunes_20h</td>\n",
       "      <td>0.40</td>\n",
       "      <td>300000.0</td>\n",
       "    </tr>\n",
       "    <tr>\n",
       "      <th>9</th>\n",
       "      <td>6667</td>\n",
       "      <td>BC</td>\n",
       "      <td>Real Valladolid  - vs -  D. Alavés</td>\n",
       "      <td>viernes_20h</td>\n",
       "      <td>0.40</td>\n",
       "      <td>300000.0</td>\n",
       "    </tr>\n",
       "  </tbody>\n",
       "</table>\n",
       "</div>"
      ],
      "text/plain": [
       "  cat_num categoria                                     equipos          dia  \\\n",
       "3    6565        AA  F.C. Barcelona  - vs -  Atlético de Madrid  domingo_20h   \n",
       "0    6566        AB         Sevilla F.C.  - vs -  Athletic Club   sabado_20h   \n",
       "4    6567        AC            Real Madrid  - vs -  Girona F.C.  domingo_18h   \n",
       "6    6666        BB         RCD Espanyol  - vs -  Valencia C.F.   sabado_18h   \n",
       "1    6666        BB               RC Celta  - vs -  Getafe C.F.  domingo_16h   \n",
       "2    6667        BC       Real Betis B.P.  - vs -  C.D. Leganés   sabado_16h   \n",
       "5    6667        BC           Levante UD  - vs -  Real Sociedad   sabado_12h   \n",
       "7    6667        BC          Real Zaragoza  - vs -  S.D. Huesca  domingo_12h   \n",
       "8    6667        BC          C.D. Castellón  - vs -  S.D. Eibar    lunes_20h   \n",
       "9    6667        BC          Real Valladolid  - vs -  D. Alavés  viernes_20h   \n",
       "\n",
       "     cr  audiencia  \n",
       "3  1.00  2000000.0  \n",
       "0  1.00  1300000.0  \n",
       "4  0.85   850000.0  \n",
       "6  0.80   720000.0  \n",
       "1  0.75   675000.0  \n",
       "2  0.70   525000.0  \n",
       "5  0.55   412500.0  \n",
       "7  0.45   337500.0  \n",
       "8  0.40   300000.0  \n",
       "9  0.40   300000.0  "
      ]
     },
     "execution_count": 39,
     "metadata": {},
     "output_type": "execute_result"
    }
   ],
   "source": [
    "jornada_maxima_audiencia"
   ]
  },
  {
   "cell_type": "code",
   "execution_count": 40,
   "metadata": {
    "scrolled": true
   },
   "outputs": [
    {
     "name": "stderr",
     "output_type": "stream",
     "text": [
      "C:\\Users\\user\\AppData\\Local\\Temp\\ipykernel_79884\\3298588289.py:23: FutureWarning: The behavior of DataFrame concatenation with empty or all-NA entries is deprecated. In a future version, this will no longer exclude empty or all-NA columns when determining the result dtypes. To retain the old behavior, exclude the relevant entries before the concat operation.\n",
      "  der = pd.concat([der, df.iloc[i:i+1]])  # Concatenar el DataFrame a derecha\n",
      "C:\\Users\\user\\AppData\\Local\\Temp\\ipykernel_79884\\3298588289.py:20: FutureWarning: The behavior of DataFrame concatenation with empty or all-NA entries is deprecated. In a future version, this will no longer exclude empty or all-NA columns when determining the result dtypes. To retain the old behavior, exclude the relevant entries before the concat operation.\n",
      "  izq = pd.concat([izq, df.iloc[i:i+1]])  # Concatenar el DataFrame a izquierda\n",
      "C:\\Users\\user\\AppData\\Local\\Temp\\ipykernel_79884\\3298588289.py:23: FutureWarning: The behavior of DataFrame concatenation with empty or all-NA entries is deprecated. In a future version, this will no longer exclude empty or all-NA columns when determining the result dtypes. To retain the old behavior, exclude the relevant entries before the concat operation.\n",
      "  der = pd.concat([der, df.iloc[i:i+1]])  # Concatenar el DataFrame a derecha\n",
      "C:\\Users\\user\\AppData\\Local\\Temp\\ipykernel_79884\\3298588289.py:20: FutureWarning: The behavior of DataFrame concatenation with empty or all-NA entries is deprecated. In a future version, this will no longer exclude empty or all-NA columns when determining the result dtypes. To retain the old behavior, exclude the relevant entries before the concat operation.\n",
      "  izq = pd.concat([izq, df.iloc[i:i+1]])  # Concatenar el DataFrame a izquierda\n",
      "C:\\Users\\user\\AppData\\Local\\Temp\\ipykernel_79884\\3298588289.py:20: FutureWarning: The behavior of DataFrame concatenation with empty or all-NA entries is deprecated. In a future version, this will no longer exclude empty or all-NA columns when determining the result dtypes. To retain the old behavior, exclude the relevant entries before the concat operation.\n",
      "  izq = pd.concat([izq, df.iloc[i:i+1]])  # Concatenar el DataFrame a izquierda\n",
      "C:\\Users\\user\\AppData\\Local\\Temp\\ipykernel_79884\\3298588289.py:23: FutureWarning: The behavior of DataFrame concatenation with empty or all-NA entries is deprecated. In a future version, this will no longer exclude empty or all-NA columns when determining the result dtypes. To retain the old behavior, exclude the relevant entries before the concat operation.\n",
      "  der = pd.concat([der, df.iloc[i:i+1]])  # Concatenar el DataFrame a derecha\n",
      "C:\\Users\\user\\AppData\\Local\\Temp\\ipykernel_79884\\3298588289.py:23: FutureWarning: The behavior of DataFrame concatenation with empty or all-NA entries is deprecated. In a future version, this will no longer exclude empty or all-NA columns when determining the result dtypes. To retain the old behavior, exclude the relevant entries before the concat operation.\n",
      "  der = pd.concat([der, df.iloc[i:i+1]])  # Concatenar el DataFrame a derecha\n",
      "C:\\Users\\user\\AppData\\Local\\Temp\\ipykernel_79884\\3298588289.py:20: FutureWarning: The behavior of DataFrame concatenation with empty or all-NA entries is deprecated. In a future version, this will no longer exclude empty or all-NA columns when determining the result dtypes. To retain the old behavior, exclude the relevant entries before the concat operation.\n",
      "  izq = pd.concat([izq, df.iloc[i:i+1]])  # Concatenar el DataFrame a izquierda\n",
      "C:\\Users\\user\\AppData\\Local\\Temp\\ipykernel_79884\\3298588289.py:23: FutureWarning: The behavior of DataFrame concatenation with empty or all-NA entries is deprecated. In a future version, this will no longer exclude empty or all-NA columns when determining the result dtypes. To retain the old behavior, exclude the relevant entries before the concat operation.\n",
      "  der = pd.concat([der, df.iloc[i:i+1]])  # Concatenar el DataFrame a derecha\n",
      "C:\\Users\\user\\AppData\\Local\\Temp\\ipykernel_79884\\3298588289.py:20: FutureWarning: The behavior of DataFrame concatenation with empty or all-NA entries is deprecated. In a future version, this will no longer exclude empty or all-NA columns when determining the result dtypes. To retain the old behavior, exclude the relevant entries before the concat operation.\n",
      "  izq = pd.concat([izq, df.iloc[i:i+1]])  # Concatenar el DataFrame a izquierda\n",
      "C:\\Users\\user\\AppData\\Local\\Temp\\ipykernel_79884\\3298588289.py:23: FutureWarning: The behavior of DataFrame concatenation with empty or all-NA entries is deprecated. In a future version, this will no longer exclude empty or all-NA columns when determining the result dtypes. To retain the old behavior, exclude the relevant entries before the concat operation.\n",
      "  der = pd.concat([der, df.iloc[i:i+1]])  # Concatenar el DataFrame a derecha\n",
      "C:\\Users\\user\\AppData\\Local\\Temp\\ipykernel_79884\\3298588289.py:20: FutureWarning: The behavior of DataFrame concatenation with empty or all-NA entries is deprecated. In a future version, this will no longer exclude empty or all-NA columns when determining the result dtypes. To retain the old behavior, exclude the relevant entries before the concat operation.\n",
      "  izq = pd.concat([izq, df.iloc[i:i+1]])  # Concatenar el DataFrame a izquierda\n"
     ]
    }
   ],
   "source": [
    "jornada_maxima_audiencia = simular_jornada(equipos_liga, cr_audiencias, mejor_audiencia, ordenar_cr=True)"
   ]
  },
  {
   "cell_type": "code",
   "execution_count": 41,
   "metadata": {},
   "outputs": [
    {
     "data": {
      "text/html": [
       "<div>\n",
       "<style scoped>\n",
       "    .dataframe tbody tr th:only-of-type {\n",
       "        vertical-align: middle;\n",
       "    }\n",
       "\n",
       "    .dataframe tbody tr th {\n",
       "        vertical-align: top;\n",
       "    }\n",
       "\n",
       "    .dataframe thead th {\n",
       "        text-align: right;\n",
       "    }\n",
       "</style>\n",
       "<table border=\"1\" class=\"dataframe\">\n",
       "  <thead>\n",
       "    <tr style=\"text-align: right;\">\n",
       "      <th></th>\n",
       "      <th>cat_num</th>\n",
       "      <th>categoria</th>\n",
       "      <th>equipos</th>\n",
       "      <th>dia</th>\n",
       "      <th>cr</th>\n",
       "      <th>audiencia</th>\n",
       "    </tr>\n",
       "  </thead>\n",
       "  <tbody>\n",
       "    <tr>\n",
       "      <th>2</th>\n",
       "      <td>6566</td>\n",
       "      <td>AB</td>\n",
       "      <td>Real Madrid  - vs -  Real Zaragoza</td>\n",
       "      <td>domingo_20h</td>\n",
       "      <td>1.00</td>\n",
       "      <td>1300000.0</td>\n",
       "    </tr>\n",
       "    <tr>\n",
       "      <th>3</th>\n",
       "      <td>6566</td>\n",
       "      <td>AB</td>\n",
       "      <td>Sevilla F.C.  - vs -  Levante UD</td>\n",
       "      <td>sabado_20h</td>\n",
       "      <td>1.00</td>\n",
       "      <td>1300000.0</td>\n",
       "    </tr>\n",
       "    <tr>\n",
       "      <th>4</th>\n",
       "      <td>6566</td>\n",
       "      <td>AB</td>\n",
       "      <td>F.C. Barcelona  - vs -  Real Betis B.P.</td>\n",
       "      <td>domingo_18h</td>\n",
       "      <td>0.85</td>\n",
       "      <td>1105000.0</td>\n",
       "    </tr>\n",
       "    <tr>\n",
       "      <th>0</th>\n",
       "      <td>6567</td>\n",
       "      <td>AC</td>\n",
       "      <td>Atlético de Madrid  - vs -  C.D. Leganés</td>\n",
       "      <td>sabado_18h</td>\n",
       "      <td>0.80</td>\n",
       "      <td>800000.0</td>\n",
       "    </tr>\n",
       "    <tr>\n",
       "      <th>9</th>\n",
       "      <td>6666</td>\n",
       "      <td>BB</td>\n",
       "      <td>C.D. Castellón  - vs -  RC Celta</td>\n",
       "      <td>domingo_16h</td>\n",
       "      <td>0.75</td>\n",
       "      <td>675000.0</td>\n",
       "    </tr>\n",
       "    <tr>\n",
       "      <th>7</th>\n",
       "      <td>6666</td>\n",
       "      <td>BB</td>\n",
       "      <td>Getafe C.F.  - vs -  RCD Espanyol</td>\n",
       "      <td>sabado_16h</td>\n",
       "      <td>0.70</td>\n",
       "      <td>630000.0</td>\n",
       "    </tr>\n",
       "    <tr>\n",
       "      <th>1</th>\n",
       "      <td>6667</td>\n",
       "      <td>BC</td>\n",
       "      <td>Valencia C.F.  - vs -  Real Sociedad</td>\n",
       "      <td>sabado_12h</td>\n",
       "      <td>0.55</td>\n",
       "      <td>412500.0</td>\n",
       "    </tr>\n",
       "    <tr>\n",
       "      <th>5</th>\n",
       "      <td>6667</td>\n",
       "      <td>BC</td>\n",
       "      <td>Athletic Club  - vs -  S.D. Huesca</td>\n",
       "      <td>domingo_12h</td>\n",
       "      <td>0.45</td>\n",
       "      <td>337500.0</td>\n",
       "    </tr>\n",
       "    <tr>\n",
       "      <th>8</th>\n",
       "      <td>6667</td>\n",
       "      <td>BC</td>\n",
       "      <td>Real Valladolid  - vs -  D. Alavés</td>\n",
       "      <td>lunes_20h</td>\n",
       "      <td>0.40</td>\n",
       "      <td>300000.0</td>\n",
       "    </tr>\n",
       "    <tr>\n",
       "      <th>6</th>\n",
       "      <td>6767</td>\n",
       "      <td>CC</td>\n",
       "      <td>S.D. Eibar  - vs -  Girona F.C.</td>\n",
       "      <td>viernes_20h</td>\n",
       "      <td>0.40</td>\n",
       "      <td>188000.0</td>\n",
       "    </tr>\n",
       "  </tbody>\n",
       "</table>\n",
       "</div>"
      ],
      "text/plain": [
       "  cat_num categoria                                   equipos          dia  \\\n",
       "2    6566        AB        Real Madrid  - vs -  Real Zaragoza  domingo_20h   \n",
       "3    6566        AB          Sevilla F.C.  - vs -  Levante UD   sabado_20h   \n",
       "4    6566        AB   F.C. Barcelona  - vs -  Real Betis B.P.  domingo_18h   \n",
       "0    6567        AC  Atlético de Madrid  - vs -  C.D. Leganés   sabado_18h   \n",
       "9    6666        BB          C.D. Castellón  - vs -  RC Celta  domingo_16h   \n",
       "7    6666        BB         Getafe C.F.  - vs -  RCD Espanyol   sabado_16h   \n",
       "1    6667        BC      Valencia C.F.  - vs -  Real Sociedad   sabado_12h   \n",
       "5    6667        BC        Athletic Club  - vs -  S.D. Huesca  domingo_12h   \n",
       "8    6667        BC        Real Valladolid  - vs -  D. Alavés    lunes_20h   \n",
       "6    6767        CC           S.D. Eibar  - vs -  Girona F.C.  viernes_20h   \n",
       "\n",
       "     cr  audiencia  \n",
       "2  1.00  1300000.0  \n",
       "3  1.00  1300000.0  \n",
       "4  0.85  1105000.0  \n",
       "0  0.80   800000.0  \n",
       "9  0.75   675000.0  \n",
       "7  0.70   630000.0  \n",
       "1  0.55   412500.0  \n",
       "5  0.45   337500.0  \n",
       "8  0.40   300000.0  \n",
       "6  0.40   188000.0  "
      ]
     },
     "execution_count": 41,
     "metadata": {},
     "output_type": "execute_result"
    }
   ],
   "source": [
    "#Jornada de máxima audiencia con los coeficientes de reducción de menor a mayor\n",
    "jornada_maxima_audiencia"
   ]
  },
  {
   "cell_type": "markdown",
   "metadata": {},
   "source": [
    "### Mostrar gráfica de audiencias"
   ]
  },
  {
   "cell_type": "code",
   "execution_count": 42,
   "metadata": {},
   "outputs": [
    {
     "data": {
      "text/plain": [
       "<contextlib.ExitStack at 0x221682592d0>"
      ]
     },
     "execution_count": 42,
     "metadata": {},
     "output_type": "execute_result"
    }
   ],
   "source": [
    "import matplotlib.pyplot as plt\n",
    "plt.ioff()"
   ]
  },
  {
   "cell_type": "code",
   "execution_count": 43,
   "metadata": {},
   "outputs": [],
   "source": [
    "def grafica_audiencias_jornadas(*args):# Puede recibir cualquier numero de df's)\n",
    "  fig,axis = plt.subplots(1,1)\n",
    "  \n",
    "  for df in args:\n",
    "    \n",
    "    x = list(range(len(df)))\n",
    "    axis.plot(x,df.loc(axis=1)[\"audiencia\"],'-o',label='Audiencias',linewidth=3) # creación del gráfico\n",
    "    \n",
    "  axis.legend(loc='best') # Leyenda\n",
    "  axis.set_xlabel('Dias') # nombre eje x\n",
    "  axis.set_ylabel('Audiencias') # nombre eje y\n",
    "  axis.set_title('Divide y vencerás') # titulo\n",
    "  plt.xticks(x, df.loc(axis=1)[\"dia\"], rotation='vertical')\n",
    "  plt.show()\n",
    "  \n",
    "  return"
   ]
  },
  {
   "cell_type": "markdown",
   "metadata": {},
   "source": [
    "Generamos una comparativa de audiencia en 5 jornadas"
   ]
  },
  {
   "cell_type": "code",
   "execution_count": 44,
   "metadata": {
    "scrolled": true
   },
   "outputs": [
    {
     "name": "stderr",
     "output_type": "stream",
     "text": [
      "C:\\Users\\user\\AppData\\Local\\Temp\\ipykernel_79884\\3298588289.py:23: FutureWarning: The behavior of DataFrame concatenation with empty or all-NA entries is deprecated. In a future version, this will no longer exclude empty or all-NA columns when determining the result dtypes. To retain the old behavior, exclude the relevant entries before the concat operation.\n",
      "  der = pd.concat([der, df.iloc[i:i+1]])  # Concatenar el DataFrame a derecha\n",
      "C:\\Users\\user\\AppData\\Local\\Temp\\ipykernel_79884\\3298588289.py:20: FutureWarning: The behavior of DataFrame concatenation with empty or all-NA entries is deprecated. In a future version, this will no longer exclude empty or all-NA columns when determining the result dtypes. To retain the old behavior, exclude the relevant entries before the concat operation.\n",
      "  izq = pd.concat([izq, df.iloc[i:i+1]])  # Concatenar el DataFrame a izquierda\n",
      "C:\\Users\\user\\AppData\\Local\\Temp\\ipykernel_79884\\3298588289.py:23: FutureWarning: The behavior of DataFrame concatenation with empty or all-NA entries is deprecated. In a future version, this will no longer exclude empty or all-NA columns when determining the result dtypes. To retain the old behavior, exclude the relevant entries before the concat operation.\n",
      "  der = pd.concat([der, df.iloc[i:i+1]])  # Concatenar el DataFrame a derecha\n",
      "C:\\Users\\user\\AppData\\Local\\Temp\\ipykernel_79884\\3298588289.py:20: FutureWarning: The behavior of DataFrame concatenation with empty or all-NA entries is deprecated. In a future version, this will no longer exclude empty or all-NA columns when determining the result dtypes. To retain the old behavior, exclude the relevant entries before the concat operation.\n",
      "  izq = pd.concat([izq, df.iloc[i:i+1]])  # Concatenar el DataFrame a izquierda\n",
      "C:\\Users\\user\\AppData\\Local\\Temp\\ipykernel_79884\\3298588289.py:20: FutureWarning: The behavior of DataFrame concatenation with empty or all-NA entries is deprecated. In a future version, this will no longer exclude empty or all-NA columns when determining the result dtypes. To retain the old behavior, exclude the relevant entries before the concat operation.\n",
      "  izq = pd.concat([izq, df.iloc[i:i+1]])  # Concatenar el DataFrame a izquierda\n",
      "C:\\Users\\user\\AppData\\Local\\Temp\\ipykernel_79884\\3298588289.py:23: FutureWarning: The behavior of DataFrame concatenation with empty or all-NA entries is deprecated. In a future version, this will no longer exclude empty or all-NA columns when determining the result dtypes. To retain the old behavior, exclude the relevant entries before the concat operation.\n",
      "  der = pd.concat([der, df.iloc[i:i+1]])  # Concatenar el DataFrame a derecha\n",
      "C:\\Users\\user\\AppData\\Local\\Temp\\ipykernel_79884\\3298588289.py:23: FutureWarning: The behavior of DataFrame concatenation with empty or all-NA entries is deprecated. In a future version, this will no longer exclude empty or all-NA columns when determining the result dtypes. To retain the old behavior, exclude the relevant entries before the concat operation.\n",
      "  der = pd.concat([der, df.iloc[i:i+1]])  # Concatenar el DataFrame a derecha\n",
      "C:\\Users\\user\\AppData\\Local\\Temp\\ipykernel_79884\\3298588289.py:20: FutureWarning: The behavior of DataFrame concatenation with empty or all-NA entries is deprecated. In a future version, this will no longer exclude empty or all-NA columns when determining the result dtypes. To retain the old behavior, exclude the relevant entries before the concat operation.\n",
      "  izq = pd.concat([izq, df.iloc[i:i+1]])  # Concatenar el DataFrame a izquierda\n",
      "C:\\Users\\user\\AppData\\Local\\Temp\\ipykernel_79884\\3298588289.py:23: FutureWarning: The behavior of DataFrame concatenation with empty or all-NA entries is deprecated. In a future version, this will no longer exclude empty or all-NA columns when determining the result dtypes. To retain the old behavior, exclude the relevant entries before the concat operation.\n",
      "  der = pd.concat([der, df.iloc[i:i+1]])  # Concatenar el DataFrame a derecha\n",
      "C:\\Users\\user\\AppData\\Local\\Temp\\ipykernel_79884\\3298588289.py:20: FutureWarning: The behavior of DataFrame concatenation with empty or all-NA entries is deprecated. In a future version, this will no longer exclude empty or all-NA columns when determining the result dtypes. To retain the old behavior, exclude the relevant entries before the concat operation.\n",
      "  izq = pd.concat([izq, df.iloc[i:i+1]])  # Concatenar el DataFrame a izquierda\n",
      "C:\\Users\\user\\AppData\\Local\\Temp\\ipykernel_79884\\3298588289.py:23: FutureWarning: The behavior of DataFrame concatenation with empty or all-NA entries is deprecated. In a future version, this will no longer exclude empty or all-NA columns when determining the result dtypes. To retain the old behavior, exclude the relevant entries before the concat operation.\n",
      "  der = pd.concat([der, df.iloc[i:i+1]])  # Concatenar el DataFrame a derecha\n",
      "C:\\Users\\user\\AppData\\Local\\Temp\\ipykernel_79884\\3298588289.py:20: FutureWarning: The behavior of DataFrame concatenation with empty or all-NA entries is deprecated. In a future version, this will no longer exclude empty or all-NA columns when determining the result dtypes. To retain the old behavior, exclude the relevant entries before the concat operation.\n",
      "  izq = pd.concat([izq, df.iloc[i:i+1]])  # Concatenar el DataFrame a izquierda\n"
     ]
    }
   ],
   "source": [
    "cr_audiencias_ordenado = quick_sort_liga_mayor(cr_audiencias, 'cr')"
   ]
  },
  {
   "cell_type": "code",
   "execution_count": 45,
   "metadata": {},
   "outputs": [
    {
     "name": "stderr",
     "output_type": "stream",
     "text": [
      "C:\\Users\\user\\AppData\\Local\\Temp\\ipykernel_79884\\3298588289.py:20: FutureWarning: The behavior of DataFrame concatenation with empty or all-NA entries is deprecated. In a future version, this will no longer exclude empty or all-NA columns when determining the result dtypes. To retain the old behavior, exclude the relevant entries before the concat operation.\n",
      "  izq = pd.concat([izq, df.iloc[i:i+1]])  # Concatenar el DataFrame a izquierda\n",
      "C:\\Users\\user\\AppData\\Local\\Temp\\ipykernel_79884\\3298588289.py:23: FutureWarning: The behavior of DataFrame concatenation with empty or all-NA entries is deprecated. In a future version, this will no longer exclude empty or all-NA columns when determining the result dtypes. To retain the old behavior, exclude the relevant entries before the concat operation.\n",
      "  der = pd.concat([der, df.iloc[i:i+1]])  # Concatenar el DataFrame a derecha\n",
      "C:\\Users\\user\\AppData\\Local\\Temp\\ipykernel_79884\\3298588289.py:20: FutureWarning: The behavior of DataFrame concatenation with empty or all-NA entries is deprecated. In a future version, this will no longer exclude empty or all-NA columns when determining the result dtypes. To retain the old behavior, exclude the relevant entries before the concat operation.\n",
      "  izq = pd.concat([izq, df.iloc[i:i+1]])  # Concatenar el DataFrame a izquierda\n",
      "C:\\Users\\user\\AppData\\Local\\Temp\\ipykernel_79884\\3298588289.py:23: FutureWarning: The behavior of DataFrame concatenation with empty or all-NA entries is deprecated. In a future version, this will no longer exclude empty or all-NA columns when determining the result dtypes. To retain the old behavior, exclude the relevant entries before the concat operation.\n",
      "  der = pd.concat([der, df.iloc[i:i+1]])  # Concatenar el DataFrame a derecha\n",
      "C:\\Users\\user\\AppData\\Local\\Temp\\ipykernel_79884\\3298588289.py:20: FutureWarning: The behavior of DataFrame concatenation with empty or all-NA entries is deprecated. In a future version, this will no longer exclude empty or all-NA columns when determining the result dtypes. To retain the old behavior, exclude the relevant entries before the concat operation.\n",
      "  izq = pd.concat([izq, df.iloc[i:i+1]])  # Concatenar el DataFrame a izquierda\n",
      "C:\\Users\\user\\AppData\\Local\\Temp\\ipykernel_79884\\3298588289.py:23: FutureWarning: The behavior of DataFrame concatenation with empty or all-NA entries is deprecated. In a future version, this will no longer exclude empty or all-NA columns when determining the result dtypes. To retain the old behavior, exclude the relevant entries before the concat operation.\n",
      "  der = pd.concat([der, df.iloc[i:i+1]])  # Concatenar el DataFrame a derecha\n",
      "C:\\Users\\user\\AppData\\Local\\Temp\\ipykernel_79884\\3298588289.py:20: FutureWarning: The behavior of DataFrame concatenation with empty or all-NA entries is deprecated. In a future version, this will no longer exclude empty or all-NA columns when determining the result dtypes. To retain the old behavior, exclude the relevant entries before the concat operation.\n",
      "  izq = pd.concat([izq, df.iloc[i:i+1]])  # Concatenar el DataFrame a izquierda\n",
      "C:\\Users\\user\\AppData\\Local\\Temp\\ipykernel_79884\\3298588289.py:23: FutureWarning: The behavior of DataFrame concatenation with empty or all-NA entries is deprecated. In a future version, this will no longer exclude empty or all-NA columns when determining the result dtypes. To retain the old behavior, exclude the relevant entries before the concat operation.\n",
      "  der = pd.concat([der, df.iloc[i:i+1]])  # Concatenar el DataFrame a derecha\n",
      "C:\\Users\\user\\AppData\\Local\\Temp\\ipykernel_79884\\3298588289.py:20: FutureWarning: The behavior of DataFrame concatenation with empty or all-NA entries is deprecated. In a future version, this will no longer exclude empty or all-NA columns when determining the result dtypes. To retain the old behavior, exclude the relevant entries before the concat operation.\n",
      "  izq = pd.concat([izq, df.iloc[i:i+1]])  # Concatenar el DataFrame a izquierda\n",
      "C:\\Users\\user\\AppData\\Local\\Temp\\ipykernel_79884\\3298588289.py:23: FutureWarning: The behavior of DataFrame concatenation with empty or all-NA entries is deprecated. In a future version, this will no longer exclude empty or all-NA columns when determining the result dtypes. To retain the old behavior, exclude the relevant entries before the concat operation.\n",
      "  der = pd.concat([der, df.iloc[i:i+1]])  # Concatenar el DataFrame a derecha\n",
      "C:\\Users\\user\\AppData\\Local\\Temp\\ipykernel_79884\\3298588289.py:20: FutureWarning: The behavior of DataFrame concatenation with empty or all-NA entries is deprecated. In a future version, this will no longer exclude empty or all-NA columns when determining the result dtypes. To retain the old behavior, exclude the relevant entries before the concat operation.\n",
      "  izq = pd.concat([izq, df.iloc[i:i+1]])  # Concatenar el DataFrame a izquierda\n",
      "C:\\Users\\user\\AppData\\Local\\Temp\\ipykernel_79884\\3298588289.py:23: FutureWarning: The behavior of DataFrame concatenation with empty or all-NA entries is deprecated. In a future version, this will no longer exclude empty or all-NA columns when determining the result dtypes. To retain the old behavior, exclude the relevant entries before the concat operation.\n",
      "  der = pd.concat([der, df.iloc[i:i+1]])  # Concatenar el DataFrame a derecha\n",
      "C:\\Users\\user\\AppData\\Local\\Temp\\ipykernel_79884\\3298588289.py:20: FutureWarning: The behavior of DataFrame concatenation with empty or all-NA entries is deprecated. In a future version, this will no longer exclude empty or all-NA columns when determining the result dtypes. To retain the old behavior, exclude the relevant entries before the concat operation.\n",
      "  izq = pd.concat([izq, df.iloc[i:i+1]])  # Concatenar el DataFrame a izquierda\n",
      "C:\\Users\\user\\AppData\\Local\\Temp\\ipykernel_79884\\3298588289.py:23: FutureWarning: The behavior of DataFrame concatenation with empty or all-NA entries is deprecated. In a future version, this will no longer exclude empty or all-NA columns when determining the result dtypes. To retain the old behavior, exclude the relevant entries before the concat operation.\n",
      "  der = pd.concat([der, df.iloc[i:i+1]])  # Concatenar el DataFrame a derecha\n",
      "C:\\Users\\user\\AppData\\Local\\Temp\\ipykernel_79884\\3298588289.py:20: FutureWarning: The behavior of DataFrame concatenation with empty or all-NA entries is deprecated. In a future version, this will no longer exclude empty or all-NA columns when determining the result dtypes. To retain the old behavior, exclude the relevant entries before the concat operation.\n",
      "  izq = pd.concat([izq, df.iloc[i:i+1]])  # Concatenar el DataFrame a izquierda\n",
      "C:\\Users\\user\\AppData\\Local\\Temp\\ipykernel_79884\\3298588289.py:23: FutureWarning: The behavior of DataFrame concatenation with empty or all-NA entries is deprecated. In a future version, this will no longer exclude empty or all-NA columns when determining the result dtypes. To retain the old behavior, exclude the relevant entries before the concat operation.\n",
      "  der = pd.concat([der, df.iloc[i:i+1]])  # Concatenar el DataFrame a derecha\n",
      "C:\\Users\\user\\AppData\\Local\\Temp\\ipykernel_79884\\3298588289.py:20: FutureWarning: The behavior of DataFrame concatenation with empty or all-NA entries is deprecated. In a future version, this will no longer exclude empty or all-NA columns when determining the result dtypes. To retain the old behavior, exclude the relevant entries before the concat operation.\n",
      "  izq = pd.concat([izq, df.iloc[i:i+1]])  # Concatenar el DataFrame a izquierda\n",
      "C:\\Users\\user\\AppData\\Local\\Temp\\ipykernel_79884\\3298588289.py:23: FutureWarning: The behavior of DataFrame concatenation with empty or all-NA entries is deprecated. In a future version, this will no longer exclude empty or all-NA columns when determining the result dtypes. To retain the old behavior, exclude the relevant entries before the concat operation.\n",
      "  der = pd.concat([der, df.iloc[i:i+1]])  # Concatenar el DataFrame a derecha\n",
      "C:\\Users\\user\\AppData\\Local\\Temp\\ipykernel_79884\\3298588289.py:20: FutureWarning: The behavior of DataFrame concatenation with empty or all-NA entries is deprecated. In a future version, this will no longer exclude empty or all-NA columns when determining the result dtypes. To retain the old behavior, exclude the relevant entries before the concat operation.\n",
      "  izq = pd.concat([izq, df.iloc[i:i+1]])  # Concatenar el DataFrame a izquierda\n",
      "C:\\Users\\user\\AppData\\Local\\Temp\\ipykernel_79884\\3298588289.py:23: FutureWarning: The behavior of DataFrame concatenation with empty or all-NA entries is deprecated. In a future version, this will no longer exclude empty or all-NA columns when determining the result dtypes. To retain the old behavior, exclude the relevant entries before the concat operation.\n",
      "  der = pd.concat([der, df.iloc[i:i+1]])  # Concatenar el DataFrame a derecha\n",
      "C:\\Users\\user\\AppData\\Local\\Temp\\ipykernel_79884\\3298588289.py:20: FutureWarning: The behavior of DataFrame concatenation with empty or all-NA entries is deprecated. In a future version, this will no longer exclude empty or all-NA columns when determining the result dtypes. To retain the old behavior, exclude the relevant entries before the concat operation.\n",
      "  izq = pd.concat([izq, df.iloc[i:i+1]])  # Concatenar el DataFrame a izquierda\n",
      "C:\\Users\\user\\AppData\\Local\\Temp\\ipykernel_79884\\3298588289.py:23: FutureWarning: The behavior of DataFrame concatenation with empty or all-NA entries is deprecated. In a future version, this will no longer exclude empty or all-NA columns when determining the result dtypes. To retain the old behavior, exclude the relevant entries before the concat operation.\n",
      "  der = pd.concat([der, df.iloc[i:i+1]])  # Concatenar el DataFrame a derecha\n",
      "C:\\Users\\user\\AppData\\Local\\Temp\\ipykernel_79884\\3298588289.py:20: FutureWarning: The behavior of DataFrame concatenation with empty or all-NA entries is deprecated. In a future version, this will no longer exclude empty or all-NA columns when determining the result dtypes. To retain the old behavior, exclude the relevant entries before the concat operation.\n",
      "  izq = pd.concat([izq, df.iloc[i:i+1]])  # Concatenar el DataFrame a izquierda\n",
      "C:\\Users\\user\\AppData\\Local\\Temp\\ipykernel_79884\\3298588289.py:23: FutureWarning: The behavior of DataFrame concatenation with empty or all-NA entries is deprecated. In a future version, this will no longer exclude empty or all-NA columns when determining the result dtypes. To retain the old behavior, exclude the relevant entries before the concat operation.\n",
      "  der = pd.concat([der, df.iloc[i:i+1]])  # Concatenar el DataFrame a derecha\n",
      "C:\\Users\\user\\AppData\\Local\\Temp\\ipykernel_79884\\3298588289.py:20: FutureWarning: The behavior of DataFrame concatenation with empty or all-NA entries is deprecated. In a future version, this will no longer exclude empty or all-NA columns when determining the result dtypes. To retain the old behavior, exclude the relevant entries before the concat operation.\n",
      "  izq = pd.concat([izq, df.iloc[i:i+1]])  # Concatenar el DataFrame a izquierda\n",
      "C:\\Users\\user\\AppData\\Local\\Temp\\ipykernel_79884\\3298588289.py:23: FutureWarning: The behavior of DataFrame concatenation with empty or all-NA entries is deprecated. In a future version, this will no longer exclude empty or all-NA columns when determining the result dtypes. To retain the old behavior, exclude the relevant entries before the concat operation.\n",
      "  der = pd.concat([der, df.iloc[i:i+1]])  # Concatenar el DataFrame a derecha\n",
      "C:\\Users\\user\\AppData\\Local\\Temp\\ipykernel_79884\\3298588289.py:20: FutureWarning: The behavior of DataFrame concatenation with empty or all-NA entries is deprecated. In a future version, this will no longer exclude empty or all-NA columns when determining the result dtypes. To retain the old behavior, exclude the relevant entries before the concat operation.\n",
      "  izq = pd.concat([izq, df.iloc[i:i+1]])  # Concatenar el DataFrame a izquierda\n",
      "C:\\Users\\user\\AppData\\Local\\Temp\\ipykernel_79884\\3298588289.py:23: FutureWarning: The behavior of DataFrame concatenation with empty or all-NA entries is deprecated. In a future version, this will no longer exclude empty or all-NA columns when determining the result dtypes. To retain the old behavior, exclude the relevant entries before the concat operation.\n",
      "  der = pd.concat([der, df.iloc[i:i+1]])  # Concatenar el DataFrame a derecha\n",
      "C:\\Users\\user\\AppData\\Local\\Temp\\ipykernel_79884\\3298588289.py:20: FutureWarning: The behavior of DataFrame concatenation with empty or all-NA entries is deprecated. In a future version, this will no longer exclude empty or all-NA columns when determining the result dtypes. To retain the old behavior, exclude the relevant entries before the concat operation.\n",
      "  izq = pd.concat([izq, df.iloc[i:i+1]])  # Concatenar el DataFrame a izquierda\n",
      "C:\\Users\\user\\AppData\\Local\\Temp\\ipykernel_79884\\3298588289.py:23: FutureWarning: The behavior of DataFrame concatenation with empty or all-NA entries is deprecated. In a future version, this will no longer exclude empty or all-NA columns when determining the result dtypes. To retain the old behavior, exclude the relevant entries before the concat operation.\n",
      "  der = pd.concat([der, df.iloc[i:i+1]])  # Concatenar el DataFrame a derecha\n",
      "C:\\Users\\user\\AppData\\Local\\Temp\\ipykernel_79884\\3298588289.py:20: FutureWarning: The behavior of DataFrame concatenation with empty or all-NA entries is deprecated. In a future version, this will no longer exclude empty or all-NA columns when determining the result dtypes. To retain the old behavior, exclude the relevant entries before the concat operation.\n",
      "  izq = pd.concat([izq, df.iloc[i:i+1]])  # Concatenar el DataFrame a izquierda\n",
      "C:\\Users\\user\\AppData\\Local\\Temp\\ipykernel_79884\\3298588289.py:23: FutureWarning: The behavior of DataFrame concatenation with empty or all-NA entries is deprecated. In a future version, this will no longer exclude empty or all-NA columns when determining the result dtypes. To retain the old behavior, exclude the relevant entries before the concat operation.\n",
      "  der = pd.concat([der, df.iloc[i:i+1]])  # Concatenar el DataFrame a derecha\n",
      "C:\\Users\\user\\AppData\\Local\\Temp\\ipykernel_79884\\3298588289.py:20: FutureWarning: The behavior of DataFrame concatenation with empty or all-NA entries is deprecated. In a future version, this will no longer exclude empty or all-NA columns when determining the result dtypes. To retain the old behavior, exclude the relevant entries before the concat operation.\n",
      "  izq = pd.concat([izq, df.iloc[i:i+1]])  # Concatenar el DataFrame a izquierda\n",
      "C:\\Users\\user\\AppData\\Local\\Temp\\ipykernel_79884\\3298588289.py:23: FutureWarning: The behavior of DataFrame concatenation with empty or all-NA entries is deprecated. In a future version, this will no longer exclude empty or all-NA columns when determining the result dtypes. To retain the old behavior, exclude the relevant entries before the concat operation.\n",
      "  der = pd.concat([der, df.iloc[i:i+1]])  # Concatenar el DataFrame a derecha\n",
      "C:\\Users\\user\\AppData\\Local\\Temp\\ipykernel_79884\\3298588289.py:20: FutureWarning: The behavior of DataFrame concatenation with empty or all-NA entries is deprecated. In a future version, this will no longer exclude empty or all-NA columns when determining the result dtypes. To retain the old behavior, exclude the relevant entries before the concat operation.\n",
      "  izq = pd.concat([izq, df.iloc[i:i+1]])  # Concatenar el DataFrame a izquierda\n",
      "C:\\Users\\user\\AppData\\Local\\Temp\\ipykernel_79884\\3298588289.py:23: FutureWarning: The behavior of DataFrame concatenation with empty or all-NA entries is deprecated. In a future version, this will no longer exclude empty or all-NA columns when determining the result dtypes. To retain the old behavior, exclude the relevant entries before the concat operation.\n",
      "  der = pd.concat([der, df.iloc[i:i+1]])  # Concatenar el DataFrame a derecha\n",
      "C:\\Users\\user\\AppData\\Local\\Temp\\ipykernel_79884\\3298588289.py:20: FutureWarning: The behavior of DataFrame concatenation with empty or all-NA entries is deprecated. In a future version, this will no longer exclude empty or all-NA columns when determining the result dtypes. To retain the old behavior, exclude the relevant entries before the concat operation.\n",
      "  izq = pd.concat([izq, df.iloc[i:i+1]])  # Concatenar el DataFrame a izquierda\n",
      "C:\\Users\\user\\AppData\\Local\\Temp\\ipykernel_79884\\3298588289.py:23: FutureWarning: The behavior of DataFrame concatenation with empty or all-NA entries is deprecated. In a future version, this will no longer exclude empty or all-NA columns when determining the result dtypes. To retain the old behavior, exclude the relevant entries before the concat operation.\n",
      "  der = pd.concat([der, df.iloc[i:i+1]])  # Concatenar el DataFrame a derecha\n",
      "C:\\Users\\user\\AppData\\Local\\Temp\\ipykernel_79884\\3298588289.py:20: FutureWarning: The behavior of DataFrame concatenation with empty or all-NA entries is deprecated. In a future version, this will no longer exclude empty or all-NA columns when determining the result dtypes. To retain the old behavior, exclude the relevant entries before the concat operation.\n",
      "  izq = pd.concat([izq, df.iloc[i:i+1]])  # Concatenar el DataFrame a izquierda\n",
      "C:\\Users\\user\\AppData\\Local\\Temp\\ipykernel_79884\\3298588289.py:23: FutureWarning: The behavior of DataFrame concatenation with empty or all-NA entries is deprecated. In a future version, this will no longer exclude empty or all-NA columns when determining the result dtypes. To retain the old behavior, exclude the relevant entries before the concat operation.\n",
      "  der = pd.concat([der, df.iloc[i:i+1]])  # Concatenar el DataFrame a derecha\n"
     ]
    }
   ],
   "source": [
    "jornada_1 = simular_jornada(equipos_liga, cr_audiencias_ordenado, mejor_audiencia, ordenar_cr = False)\n",
    "jornada_2 = simular_jornada(equipos_liga, cr_audiencias_ordenado, mejor_audiencia, ordenar_cr = False)\n",
    "jornada_3 = simular_jornada(equipos_liga, cr_audiencias_ordenado, mejor_audiencia, ordenar_cr = False)\n",
    "jornada_4 = simular_jornada(equipos_liga, cr_audiencias_ordenado, mejor_audiencia, ordenar_cr = False)\n",
    "jornada_5 = simular_jornada(equipos_liga, cr_audiencias_ordenado, mejor_audiencia, ordenar_cr = False)"
   ]
  },
  {
   "cell_type": "code",
   "execution_count": 46,
   "metadata": {},
   "outputs": [
    {
     "data": {
      "image/png": "[encoded data removed]",
      "text/plain": [
       "<Figure size 640x480 with 1 Axes>"
      ]
     },
     "metadata": {},
     "output_type": "display_data"
    }
   ],
   "source": [
    "grafica_audiencias_jornadas(jornada_1,jornada_2,jornada_3,jornada_4,jornada_5)"
   ]
  }
 ],
 "metadata": {
  "colab": {
   "provenance": []
  },
  "kernelspec": {
   "display_name": "Python 3 (ipykernel)",
   "language": "python",
   "name": "python3"
  },
  "language_info": {
   "codemirror_mode": {
    "name": "ipython",
    "version": 3
   },
   "file_extension": ".py",
   "mimetype": "text/x-python",
   "name": "python",
   "nbconvert_exporter": "python",
   "pygments_lexer": "ipython3",
   "version": "3.11.5"
  }
 },
 "nbformat": 4,
 "nbformat_minor": 4
}
